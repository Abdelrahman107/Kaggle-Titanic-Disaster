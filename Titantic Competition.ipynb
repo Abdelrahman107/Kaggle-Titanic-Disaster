{
 "cells": [
  {
   "cell_type": "markdown",
   "id": "superior-significance",
   "metadata": {
    "papermill": {
     "duration": 0.03573,
     "end_time": "2021-06-10T16:52:06.712205",
     "exception": false,
     "start_time": "2021-06-10T16:52:06.676475",
     "status": "completed"
    },
    "tags": []
   },
   "source": [
    "> # Titanic - Machine Learning from Disaster Competition"
   ]
  },
  {
   "cell_type": "markdown",
   "id": "executive-batch",
   "metadata": {
    "papermill": {
     "duration": 0.034556,
     "end_time": "2021-06-10T16:52:06.781650",
     "exception": false,
     "start_time": "2021-06-10T16:52:06.747094",
     "status": "completed"
    },
    "tags": []
   },
   "source": [
    "### Importing Necessary Libraries"
   ]
  },
  {
   "cell_type": "code",
   "execution_count": 1,
   "id": "sharing-container",
   "metadata": {
    "execution": {
     "iopub.execute_input": "2021-06-10T16:52:06.860863Z",
     "iopub.status.busy": "2021-06-10T16:52:06.860193Z",
     "iopub.status.idle": "2021-06-10T16:52:06.863300Z",
     "shell.execute_reply": "2021-06-10T16:52:06.863689Z",
     "shell.execute_reply.started": "2021-06-10T16:51:36.918152Z"
    },
    "papermill": {
     "duration": 0.047371,
     "end_time": "2021-06-10T16:52:06.863899",
     "exception": false,
     "start_time": "2021-06-10T16:52:06.816528",
     "status": "completed"
    },
    "tags": []
   },
   "outputs": [],
   "source": [
    "import numpy as np\n",
    "import pandas as pd\n",
    "import matplotlib.pyplot as plt"
   ]
  },
  {
   "cell_type": "markdown",
   "id": "executed-belly",
   "metadata": {
    "papermill": {
     "duration": 0.034722,
     "end_time": "2021-06-10T16:52:06.932984",
     "exception": false,
     "start_time": "2021-06-10T16:52:06.898262",
     "status": "completed"
    },
    "tags": []
   },
   "source": [
    "### Reading And Exploring Dataset"
   ]
  },
  {
   "cell_type": "code",
   "execution_count": 2,
   "id": "starting-relief",
   "metadata": {
    "execution": {
     "iopub.execute_input": "2021-06-10T16:52:07.006412Z",
     "iopub.status.busy": "2021-06-10T16:52:07.005914Z",
     "iopub.status.idle": "2021-06-10T16:52:07.039550Z",
     "shell.execute_reply": "2021-06-10T16:52:07.039110Z",
     "shell.execute_reply.started": "2021-06-10T16:51:36.926155Z"
    },
    "papermill": {
     "duration": 0.071749,
     "end_time": "2021-06-10T16:52:07.039658",
     "exception": false,
     "start_time": "2021-06-10T16:52:06.967909",
     "status": "completed"
    },
    "tags": []
   },
   "outputs": [
    {
     "data": {
      "text/html": [
       "<div>\n",
       "<style scoped>\n",
       "    .dataframe tbody tr th:only-of-type {\n",
       "        vertical-align: middle;\n",
       "    }\n",
       "\n",
       "    .dataframe tbody tr th {\n",
       "        vertical-align: top;\n",
       "    }\n",
       "\n",
       "    .dataframe thead th {\n",
       "        text-align: right;\n",
       "    }\n",
       "</style>\n",
       "<table border=\"1\" class=\"dataframe\">\n",
       "  <thead>\n",
       "    <tr style=\"text-align: right;\">\n",
       "      <th></th>\n",
       "      <th>PassengerId</th>\n",
       "      <th>Survived</th>\n",
       "      <th>Pclass</th>\n",
       "      <th>Name</th>\n",
       "      <th>Sex</th>\n",
       "      <th>Age</th>\n",
       "      <th>SibSp</th>\n",
       "      <th>Parch</th>\n",
       "      <th>Ticket</th>\n",
       "      <th>Fare</th>\n",
       "      <th>Cabin</th>\n",
       "      <th>Embarked</th>\n",
       "    </tr>\n",
       "  </thead>\n",
       "  <tbody>\n",
       "    <tr>\n",
       "      <th>0</th>\n",
       "      <td>1</td>\n",
       "      <td>0</td>\n",
       "      <td>3</td>\n",
       "      <td>Braund, Mr. Owen Harris</td>\n",
       "      <td>male</td>\n",
       "      <td>22.0</td>\n",
       "      <td>1</td>\n",
       "      <td>0</td>\n",
       "      <td>A/5 21171</td>\n",
       "      <td>7.2500</td>\n",
       "      <td>NaN</td>\n",
       "      <td>S</td>\n",
       "    </tr>\n",
       "    <tr>\n",
       "      <th>1</th>\n",
       "      <td>2</td>\n",
       "      <td>1</td>\n",
       "      <td>1</td>\n",
       "      <td>Cumings, Mrs. John Bradley (Florence Briggs Th...</td>\n",
       "      <td>female</td>\n",
       "      <td>38.0</td>\n",
       "      <td>1</td>\n",
       "      <td>0</td>\n",
       "      <td>PC 17599</td>\n",
       "      <td>71.2833</td>\n",
       "      <td>C85</td>\n",
       "      <td>C</td>\n",
       "    </tr>\n",
       "    <tr>\n",
       "      <th>2</th>\n",
       "      <td>3</td>\n",
       "      <td>1</td>\n",
       "      <td>3</td>\n",
       "      <td>Heikkinen, Miss. Laina</td>\n",
       "      <td>female</td>\n",
       "      <td>26.0</td>\n",
       "      <td>0</td>\n",
       "      <td>0</td>\n",
       "      <td>STON/O2. 3101282</td>\n",
       "      <td>7.9250</td>\n",
       "      <td>NaN</td>\n",
       "      <td>S</td>\n",
       "    </tr>\n",
       "    <tr>\n",
       "      <th>3</th>\n",
       "      <td>4</td>\n",
       "      <td>1</td>\n",
       "      <td>1</td>\n",
       "      <td>Futrelle, Mrs. Jacques Heath (Lily May Peel)</td>\n",
       "      <td>female</td>\n",
       "      <td>35.0</td>\n",
       "      <td>1</td>\n",
       "      <td>0</td>\n",
       "      <td>113803</td>\n",
       "      <td>53.1000</td>\n",
       "      <td>C123</td>\n",
       "      <td>S</td>\n",
       "    </tr>\n",
       "    <tr>\n",
       "      <th>4</th>\n",
       "      <td>5</td>\n",
       "      <td>0</td>\n",
       "      <td>3</td>\n",
       "      <td>Allen, Mr. William Henry</td>\n",
       "      <td>male</td>\n",
       "      <td>35.0</td>\n",
       "      <td>0</td>\n",
       "      <td>0</td>\n",
       "      <td>373450</td>\n",
       "      <td>8.0500</td>\n",
       "      <td>NaN</td>\n",
       "      <td>S</td>\n",
       "    </tr>\n",
       "  </tbody>\n",
       "</table>\n",
       "</div>"
      ],
      "text/plain": [
       "   PassengerId  Survived  Pclass  \\\n",
       "0            1         0       3   \n",
       "1            2         1       1   \n",
       "2            3         1       3   \n",
       "3            4         1       1   \n",
       "4            5         0       3   \n",
       "\n",
       "                                                Name     Sex   Age  SibSp  \\\n",
       "0                            Braund, Mr. Owen Harris    male  22.0      1   \n",
       "1  Cumings, Mrs. John Bradley (Florence Briggs Th...  female  38.0      1   \n",
       "2                             Heikkinen, Miss. Laina  female  26.0      0   \n",
       "3       Futrelle, Mrs. Jacques Heath (Lily May Peel)  female  35.0      1   \n",
       "4                           Allen, Mr. William Henry    male  35.0      0   \n",
       "\n",
       "   Parch            Ticket     Fare Cabin Embarked  \n",
       "0      0         A/5 21171   7.2500   NaN        S  \n",
       "1      0          PC 17599  71.2833   C85        C  \n",
       "2      0  STON/O2. 3101282   7.9250   NaN        S  \n",
       "3      0            113803  53.1000  C123        S  \n",
       "4      0            373450   8.0500   NaN        S  "
      ]
     },
     "execution_count": 2,
     "metadata": {},
     "output_type": "execute_result"
    }
   ],
   "source": [
    "file_path = '../input/titanic/train.csv'\n",
    "df = pd.read_csv(file_path)\n",
    "df.head()\n",
    "\n"
   ]
  },
  {
   "cell_type": "markdown",
   "id": "freelance-atmosphere",
   "metadata": {
    "execution": {
     "iopub.execute_input": "2021-05-25T12:47:00.273585Z",
     "iopub.status.busy": "2021-05-25T12:47:00.273099Z",
     "iopub.status.idle": "2021-05-25T12:47:00.27915Z",
     "shell.execute_reply": "2021-05-25T12:47:00.278358Z",
     "shell.execute_reply.started": "2021-05-25T12:47:00.273556Z"
    },
    "papermill": {
     "duration": 0.034765,
     "end_time": "2021-06-10T16:52:07.110437",
     "exception": false,
     "start_time": "2021-06-10T16:52:07.075672",
     "status": "completed"
    },
    "tags": []
   },
   "source": [
    "pclass: A proxy for socio-economic status (SES)\n",
    "1st = Upper\n",
    "2nd = Middle\n",
    "3rd = Lower\n",
    "\n",
    "age: Age is fractional if less than 1. If the age is estimated, is it in the form of xx.5\n",
    "\n",
    "sibsp: The dataset defines family relations in this way...\n",
    "Sibling = brother, sister, stepbrother, stepsister\n",
    "Spouse = husband, wife (mistresses and fiancés were ignored)\n",
    "\n",
    "parch: The dataset defines family relations in this way...\n",
    "Parent = mother, father\n",
    "Child = daughter, son, stepdaughter, stepson\n",
    "Some children travelled only with a nanny, therefore parch=0 for them."
   ]
  },
  {
   "cell_type": "code",
   "execution_count": 3,
   "id": "english-speed",
   "metadata": {
    "execution": {
     "iopub.execute_input": "2021-06-10T16:52:07.186081Z",
     "iopub.status.busy": "2021-06-10T16:52:07.185600Z",
     "iopub.status.idle": "2021-06-10T16:52:07.190458Z",
     "shell.execute_reply": "2021-06-10T16:52:07.190831Z",
     "shell.execute_reply.started": "2021-06-10T16:51:36.966765Z"
    },
    "papermill": {
     "duration": 0.045686,
     "end_time": "2021-06-10T16:52:07.190980",
     "exception": false,
     "start_time": "2021-06-10T16:52:07.145294",
     "status": "completed"
    },
    "tags": []
   },
   "outputs": [
    {
     "data": {
      "text/plain": [
       "PassengerId      0\n",
       "Survived         0\n",
       "Pclass           0\n",
       "Name             0\n",
       "Sex              0\n",
       "Age            177\n",
       "SibSp            0\n",
       "Parch            0\n",
       "Ticket           0\n",
       "Fare             0\n",
       "Cabin          687\n",
       "Embarked         2\n",
       "dtype: int64"
      ]
     },
     "execution_count": 3,
     "metadata": {},
     "output_type": "execute_result"
    }
   ],
   "source": [
    "df.isnull().sum()"
   ]
  },
  {
   "cell_type": "code",
   "execution_count": 4,
   "id": "suspected-hawaiian",
   "metadata": {
    "execution": {
     "iopub.execute_input": "2021-06-10T16:52:07.277285Z",
     "iopub.status.busy": "2021-06-10T16:52:07.275693Z",
     "iopub.status.idle": "2021-06-10T16:52:07.280083Z",
     "shell.execute_reply": "2021-06-10T16:52:07.279586Z",
     "shell.execute_reply.started": "2021-06-10T16:51:36.978791Z"
    },
    "papermill": {
     "duration": 0.05338,
     "end_time": "2021-06-10T16:52:07.280201",
     "exception": false,
     "start_time": "2021-06-10T16:52:07.226821",
     "status": "completed"
    },
    "tags": []
   },
   "outputs": [
    {
     "name": "stdout",
     "output_type": "stream",
     "text": [
      "<class 'pandas.core.frame.DataFrame'>\n",
      "RangeIndex: 891 entries, 0 to 890\n",
      "Data columns (total 12 columns):\n",
      " #   Column       Non-Null Count  Dtype  \n",
      "---  ------       --------------  -----  \n",
      " 0   PassengerId  891 non-null    int64  \n",
      " 1   Survived     891 non-null    int64  \n",
      " 2   Pclass       891 non-null    int64  \n",
      " 3   Name         891 non-null    object \n",
      " 4   Sex          891 non-null    object \n",
      " 5   Age          714 non-null    float64\n",
      " 6   SibSp        891 non-null    int64  \n",
      " 7   Parch        891 non-null    int64  \n",
      " 8   Ticket       891 non-null    object \n",
      " 9   Fare         891 non-null    float64\n",
      " 10  Cabin        204 non-null    object \n",
      " 11  Embarked     889 non-null    object \n",
      "dtypes: float64(2), int64(5), object(5)\n",
      "memory usage: 83.7+ KB\n"
     ]
    }
   ],
   "source": [
    "df.info()"
   ]
  },
  {
   "cell_type": "code",
   "execution_count": 5,
   "id": "mechanical-organizer",
   "metadata": {
    "execution": {
     "iopub.execute_input": "2021-06-10T16:52:07.358419Z",
     "iopub.status.busy": "2021-06-10T16:52:07.355123Z",
     "iopub.status.idle": "2021-06-10T16:52:07.382174Z",
     "shell.execute_reply": "2021-06-10T16:52:07.382628Z",
     "shell.execute_reply.started": "2021-06-10T16:51:37.003141Z"
    },
    "papermill": {
     "duration": 0.06577,
     "end_time": "2021-06-10T16:52:07.382750",
     "exception": false,
     "start_time": "2021-06-10T16:52:07.316980",
     "status": "completed"
    },
    "tags": []
   },
   "outputs": [
    {
     "data": {
      "text/html": [
       "<div>\n",
       "<style scoped>\n",
       "    .dataframe tbody tr th:only-of-type {\n",
       "        vertical-align: middle;\n",
       "    }\n",
       "\n",
       "    .dataframe tbody tr th {\n",
       "        vertical-align: top;\n",
       "    }\n",
       "\n",
       "    .dataframe thead th {\n",
       "        text-align: right;\n",
       "    }\n",
       "</style>\n",
       "<table border=\"1\" class=\"dataframe\">\n",
       "  <thead>\n",
       "    <tr style=\"text-align: right;\">\n",
       "      <th></th>\n",
       "      <th>PassengerId</th>\n",
       "      <th>Survived</th>\n",
       "      <th>Pclass</th>\n",
       "      <th>Age</th>\n",
       "      <th>SibSp</th>\n",
       "      <th>Parch</th>\n",
       "      <th>Fare</th>\n",
       "    </tr>\n",
       "  </thead>\n",
       "  <tbody>\n",
       "    <tr>\n",
       "      <th>count</th>\n",
       "      <td>891.000000</td>\n",
       "      <td>891.000000</td>\n",
       "      <td>891.000000</td>\n",
       "      <td>714.000000</td>\n",
       "      <td>891.000000</td>\n",
       "      <td>891.000000</td>\n",
       "      <td>891.000000</td>\n",
       "    </tr>\n",
       "    <tr>\n",
       "      <th>mean</th>\n",
       "      <td>446.000000</td>\n",
       "      <td>0.383838</td>\n",
       "      <td>2.308642</td>\n",
       "      <td>29.699118</td>\n",
       "      <td>0.523008</td>\n",
       "      <td>0.381594</td>\n",
       "      <td>32.204208</td>\n",
       "    </tr>\n",
       "    <tr>\n",
       "      <th>std</th>\n",
       "      <td>257.353842</td>\n",
       "      <td>0.486592</td>\n",
       "      <td>0.836071</td>\n",
       "      <td>14.526497</td>\n",
       "      <td>1.102743</td>\n",
       "      <td>0.806057</td>\n",
       "      <td>49.693429</td>\n",
       "    </tr>\n",
       "    <tr>\n",
       "      <th>min</th>\n",
       "      <td>1.000000</td>\n",
       "      <td>0.000000</td>\n",
       "      <td>1.000000</td>\n",
       "      <td>0.420000</td>\n",
       "      <td>0.000000</td>\n",
       "      <td>0.000000</td>\n",
       "      <td>0.000000</td>\n",
       "    </tr>\n",
       "    <tr>\n",
       "      <th>25%</th>\n",
       "      <td>223.500000</td>\n",
       "      <td>0.000000</td>\n",
       "      <td>2.000000</td>\n",
       "      <td>20.125000</td>\n",
       "      <td>0.000000</td>\n",
       "      <td>0.000000</td>\n",
       "      <td>7.910400</td>\n",
       "    </tr>\n",
       "    <tr>\n",
       "      <th>50%</th>\n",
       "      <td>446.000000</td>\n",
       "      <td>0.000000</td>\n",
       "      <td>3.000000</td>\n",
       "      <td>28.000000</td>\n",
       "      <td>0.000000</td>\n",
       "      <td>0.000000</td>\n",
       "      <td>14.454200</td>\n",
       "    </tr>\n",
       "    <tr>\n",
       "      <th>75%</th>\n",
       "      <td>668.500000</td>\n",
       "      <td>1.000000</td>\n",
       "      <td>3.000000</td>\n",
       "      <td>38.000000</td>\n",
       "      <td>1.000000</td>\n",
       "      <td>0.000000</td>\n",
       "      <td>31.000000</td>\n",
       "    </tr>\n",
       "    <tr>\n",
       "      <th>max</th>\n",
       "      <td>891.000000</td>\n",
       "      <td>1.000000</td>\n",
       "      <td>3.000000</td>\n",
       "      <td>80.000000</td>\n",
       "      <td>8.000000</td>\n",
       "      <td>6.000000</td>\n",
       "      <td>512.329200</td>\n",
       "    </tr>\n",
       "  </tbody>\n",
       "</table>\n",
       "</div>"
      ],
      "text/plain": [
       "       PassengerId    Survived      Pclass         Age       SibSp  \\\n",
       "count   891.000000  891.000000  891.000000  714.000000  891.000000   \n",
       "mean    446.000000    0.383838    2.308642   29.699118    0.523008   \n",
       "std     257.353842    0.486592    0.836071   14.526497    1.102743   \n",
       "min       1.000000    0.000000    1.000000    0.420000    0.000000   \n",
       "25%     223.500000    0.000000    2.000000   20.125000    0.000000   \n",
       "50%     446.000000    0.000000    3.000000   28.000000    0.000000   \n",
       "75%     668.500000    1.000000    3.000000   38.000000    1.000000   \n",
       "max     891.000000    1.000000    3.000000   80.000000    8.000000   \n",
       "\n",
       "            Parch        Fare  \n",
       "count  891.000000  891.000000  \n",
       "mean     0.381594   32.204208  \n",
       "std      0.806057   49.693429  \n",
       "min      0.000000    0.000000  \n",
       "25%      0.000000    7.910400  \n",
       "50%      0.000000   14.454200  \n",
       "75%      0.000000   31.000000  \n",
       "max      6.000000  512.329200  "
      ]
     },
     "execution_count": 5,
     "metadata": {},
     "output_type": "execute_result"
    }
   ],
   "source": [
    "df.describe()"
   ]
  },
  {
   "cell_type": "code",
   "execution_count": 6,
   "id": "acknowledged-puzzle",
   "metadata": {
    "execution": {
     "iopub.execute_input": "2021-06-10T16:52:07.459071Z",
     "iopub.status.busy": "2021-06-10T16:52:07.458301Z",
     "iopub.status.idle": "2021-06-10T16:52:07.463473Z",
     "shell.execute_reply": "2021-06-10T16:52:07.463899Z",
     "shell.execute_reply.started": "2021-06-10T16:51:37.043417Z"
    },
    "papermill": {
     "duration": 0.044647,
     "end_time": "2021-06-10T16:52:07.464015",
     "exception": false,
     "start_time": "2021-06-10T16:52:07.419368",
     "status": "completed"
    },
    "tags": []
   },
   "outputs": [
    {
     "data": {
      "text/plain": [
       "0    549\n",
       "1    342\n",
       "Name: Survived, dtype: int64"
      ]
     },
     "execution_count": 6,
     "metadata": {},
     "output_type": "execute_result"
    }
   ],
   "source": [
    "df['Survived'].value_counts() "
   ]
  },
  {
   "cell_type": "code",
   "execution_count": 7,
   "id": "desirable-station",
   "metadata": {
    "execution": {
     "iopub.execute_input": "2021-06-10T16:52:07.539757Z",
     "iopub.status.busy": "2021-06-10T16:52:07.539197Z",
     "iopub.status.idle": "2021-06-10T16:52:09.021036Z",
     "shell.execute_reply": "2021-06-10T16:52:09.020588Z",
     "shell.execute_reply.started": "2021-06-10T16:51:37.056181Z"
    },
    "papermill": {
     "duration": 1.520724,
     "end_time": "2021-06-10T16:52:09.021153",
     "exception": false,
     "start_time": "2021-06-10T16:52:07.500429",
     "status": "completed"
    },
    "tags": []
   },
   "outputs": [
    {
     "name": "stderr",
     "output_type": "stream",
     "text": [
      "/opt/conda/lib/python3.7/site-packages/pandas/plotting/_matplotlib/tools.py:331: MatplotlibDeprecationWarning: \n",
      "The is_first_col function was deprecated in Matplotlib 3.4 and will be removed two minor releases later. Use ax.get_subplotspec().is_first_col() instead.\n",
      "  if ax.is_first_col():\n"
     ]
    },
    {
     "data": {
      "image/png": "[encoded data removed]",
      "text/plain": [
       "<Figure size 1440x1080 with 9 Axes>"
      ]
     },
     "metadata": {
      "needs_background": "light"
     },
     "output_type": "display_data"
    }
   ],
   "source": [
    "df.hist(bins=50, figsize=(20,15))\n",
    "plt.show()"
   ]
  },
  {
   "cell_type": "code",
   "execution_count": 8,
   "id": "attractive-checkout",
   "metadata": {
    "execution": {
     "iopub.execute_input": "2021-06-10T16:52:09.102549Z",
     "iopub.status.busy": "2021-06-10T16:52:09.102016Z",
     "iopub.status.idle": "2021-06-10T16:52:10.196297Z",
     "shell.execute_reply": "2021-06-10T16:52:10.195886Z"
    },
    "papermill": {
     "duration": 1.136646,
     "end_time": "2021-06-10T16:52:10.196433",
     "exception": false,
     "start_time": "2021-06-10T16:52:09.059787",
     "status": "completed"
    },
    "tags": []
   },
   "outputs": [
    {
     "data": {
      "image/png": "[encoded data removed]",
      "text/plain": [
       "<Figure size 864x720 with 2 Axes>"
      ]
     },
     "metadata": {
      "needs_background": "light"
     },
     "output_type": "display_data"
    }
   ],
   "source": [
    "# data similiarity and correlation\n",
    "import seaborn as sns\n",
    "plt.figure(figsize=(12,10))\n",
    "cor = df.corr()\n",
    "sns.heatmap(cor, annot=True, cmap=plt.cm.Reds)\n",
    "plt.show()"
   ]
  },
  {
   "cell_type": "code",
   "execution_count": 9,
   "id": "conscious-penalty",
   "metadata": {
    "execution": {
     "iopub.execute_input": "2021-06-10T16:52:10.279662Z",
     "iopub.status.busy": "2021-06-10T16:52:10.278841Z",
     "iopub.status.idle": "2021-06-10T16:52:10.294769Z",
     "shell.execute_reply": "2021-06-10T16:52:10.294331Z"
    },
    "papermill": {
     "duration": 0.059226,
     "end_time": "2021-06-10T16:52:10.294887",
     "exception": false,
     "start_time": "2021-06-10T16:52:10.235661",
     "status": "completed"
    },
    "tags": []
   },
   "outputs": [
    {
     "data": {
      "text/plain": [
       "Survived    1.000000\n",
       "Pclass      0.338481\n",
       "Fare        0.257307\n",
       "Name: Survived, dtype: float64"
      ]
     },
     "execution_count": 9,
     "metadata": {},
     "output_type": "execute_result"
    }
   ],
   "source": [
    "#Correlation with output variable\n",
    "cor_target = abs(cor[\"Survived\"])\n",
    "#Selecting highly correlated features\n",
    "relevant_features = cor_target[cor_target>0.2]\n",
    "relevant_features"
   ]
  },
  {
   "cell_type": "markdown",
   "id": "adjustable-majority",
   "metadata": {
    "papermill": {
     "duration": 0.039458,
     "end_time": "2021-06-10T16:52:10.374506",
     "exception": false,
     "start_time": "2021-06-10T16:52:10.335048",
     "status": "completed"
    },
    "tags": []
   },
   "source": [
    "### More Visualizations"
   ]
  },
  {
   "cell_type": "code",
   "execution_count": 10,
   "id": "educational-money",
   "metadata": {
    "execution": {
     "iopub.execute_input": "2021-06-10T16:52:10.458264Z",
     "iopub.status.busy": "2021-06-10T16:52:10.457488Z",
     "iopub.status.idle": "2021-06-10T16:52:10.568025Z",
     "shell.execute_reply": "2021-06-10T16:52:10.567628Z"
    },
    "papermill": {
     "duration": 0.154408,
     "end_time": "2021-06-10T16:52:10.568134",
     "exception": false,
     "start_time": "2021-06-10T16:52:10.413726",
     "status": "completed"
    },
    "tags": []
   },
   "outputs": [
    {
     "data": {
      "text/plain": [
       "<AxesSubplot:xlabel='Survived', ylabel='count'>"
      ]
     },
     "execution_count": 10,
     "metadata": {},
     "output_type": "execute_result"
    },
    {
     "data": {
      "image/png": "[encoded data removed]",
      "text/plain": [
       "<Figure size 432x288 with 1 Axes>"
      ]
     },
     "metadata": {
      "needs_background": "light"
     },
     "output_type": "display_data"
    }
   ],
   "source": [
    "# how many males,females survived or not.\n",
    "sns.countplot(x='Survived', hue='Sex' ,data=df)\n",
    "#men died the most."
   ]
  },
  {
   "cell_type": "code",
   "execution_count": 11,
   "id": "ignored-design",
   "metadata": {
    "execution": {
     "iopub.execute_input": "2021-06-10T16:52:10.689405Z",
     "iopub.status.busy": "2021-06-10T16:52:10.688628Z",
     "iopub.status.idle": "2021-06-10T16:52:10.889500Z",
     "shell.execute_reply": "2021-06-10T16:52:10.890466Z"
    },
    "papermill": {
     "duration": 0.282472,
     "end_time": "2021-06-10T16:52:10.890670",
     "exception": false,
     "start_time": "2021-06-10T16:52:10.608198",
     "status": "completed"
    },
    "tags": []
   },
   "outputs": [
    {
     "data": {
      "text/plain": [
       "<AxesSubplot:xlabel='Pclass', ylabel='count'>"
      ]
     },
     "execution_count": 11,
     "metadata": {},
     "output_type": "execute_result"
    },
    {
     "data": {
      "image/png": "[encoded data removed]",
      "text/plain": [
       "<Figure size 432x288 with 1 Axes>"
      ]
     },
     "metadata": {
      "needs_background": "light"
     },
     "output_type": "display_data"
    }
   ],
   "source": [
    "sns.countplot(x='Pclass', hue='Sex' ,data=df)\n",
    "#class 3 was the most, which implies the kind of unrich normal people.\n",
    "# class 1 the richest"
   ]
  },
  {
   "cell_type": "code",
   "execution_count": 12,
   "id": "competent-landscape",
   "metadata": {
    "execution": {
     "iopub.execute_input": "2021-06-10T16:52:11.038089Z",
     "iopub.status.busy": "2021-06-10T16:52:11.037342Z",
     "iopub.status.idle": "2021-06-10T16:52:11.205198Z",
     "shell.execute_reply": "2021-06-10T16:52:11.205605Z"
    },
    "papermill": {
     "duration": 0.247477,
     "end_time": "2021-06-10T16:52:11.205757",
     "exception": false,
     "start_time": "2021-06-10T16:52:10.958280",
     "status": "completed"
    },
    "tags": []
   },
   "outputs": [
    {
     "data": {
      "text/plain": [
       "<AxesSubplot:xlabel='Pclass', ylabel='count'>"
      ]
     },
     "execution_count": 12,
     "metadata": {},
     "output_type": "execute_result"
    },
    {
     "data": {
      "image/png": "[encoded data removed]",
      "text/plain": [
       "<Figure size 432x288 with 1 Axes>"
      ]
     },
     "metadata": {
      "needs_background": "light"
     },
     "output_type": "display_data"
    }
   ],
   "source": [
    "# which class was more affected by death? -- class 3\n",
    "sns.countplot(x='Pclass', hue='Survived' ,data=df)"
   ]
  },
  {
   "cell_type": "code",
   "execution_count": 13,
   "id": "wicked-rainbow",
   "metadata": {
    "execution": {
     "iopub.execute_input": "2021-06-10T16:52:11.310729Z",
     "iopub.status.busy": "2021-06-10T16:52:11.309867Z",
     "iopub.status.idle": "2021-06-10T16:52:11.395956Z",
     "shell.execute_reply": "2021-06-10T16:52:11.396318Z"
    },
    "papermill": {
     "duration": 0.148324,
     "end_time": "2021-06-10T16:52:11.396476",
     "exception": false,
     "start_time": "2021-06-10T16:52:11.248152",
     "status": "completed"
    },
    "tags": []
   },
   "outputs": [
    {
     "data": {
      "text/plain": [
       "<AxesSubplot:xlabel='Age'>"
      ]
     },
     "execution_count": 13,
     "metadata": {},
     "output_type": "execute_result"
    },
    {
     "data": {
      "image/png": "[encoded data removed]",
      "text/plain": [
       "<Figure size 432x288 with 1 Axes>"
      ]
     },
     "metadata": {
      "needs_background": "light"
     },
     "output_type": "display_data"
    }
   ],
   "source": [
    "# checking Outliers \n",
    "sns.boxplot(x='Age', data=df)\n",
    "# this is a small ammount of outliers. which indicates that median would be best fit for Nan"
   ]
  },
  {
   "cell_type": "markdown",
   "id": "together-opportunity",
   "metadata": {
    "papermill": {
     "duration": 0.042702,
     "end_time": "2021-06-10T16:52:11.481736",
     "exception": false,
     "start_time": "2021-06-10T16:52:11.439034",
     "status": "completed"
    },
    "tags": []
   },
   "source": [
    "### Data Preprocessing"
   ]
  },
  {
   "cell_type": "code",
   "execution_count": 14,
   "id": "collect-tampa",
   "metadata": {
    "execution": {
     "iopub.execute_input": "2021-06-10T16:52:11.586111Z",
     "iopub.status.busy": "2021-06-10T16:52:11.585299Z",
     "iopub.status.idle": "2021-06-10T16:52:11.588534Z",
     "shell.execute_reply": "2021-06-10T16:52:11.588897Z"
    },
    "papermill": {
     "duration": 0.064705,
     "end_time": "2021-06-10T16:52:11.589037",
     "exception": false,
     "start_time": "2021-06-10T16:52:11.524332",
     "status": "completed"
    },
    "tags": []
   },
   "outputs": [
    {
     "data": {
      "text/html": [
       "<div>\n",
       "<style scoped>\n",
       "    .dataframe tbody tr th:only-of-type {\n",
       "        vertical-align: middle;\n",
       "    }\n",
       "\n",
       "    .dataframe tbody tr th {\n",
       "        vertical-align: top;\n",
       "    }\n",
       "\n",
       "    .dataframe thead th {\n",
       "        text-align: right;\n",
       "    }\n",
       "</style>\n",
       "<table border=\"1\" class=\"dataframe\">\n",
       "  <thead>\n",
       "    <tr style=\"text-align: right;\">\n",
       "      <th></th>\n",
       "      <th>PassengerId</th>\n",
       "      <th>Survived</th>\n",
       "      <th>Pclass</th>\n",
       "      <th>Name</th>\n",
       "      <th>Sex</th>\n",
       "      <th>Age</th>\n",
       "      <th>SibSp</th>\n",
       "      <th>Parch</th>\n",
       "      <th>Ticket</th>\n",
       "      <th>Fare</th>\n",
       "      <th>Cabin</th>\n",
       "      <th>Embarked</th>\n",
       "    </tr>\n",
       "  </thead>\n",
       "  <tbody>\n",
       "    <tr>\n",
       "      <th>0</th>\n",
       "      <td>1</td>\n",
       "      <td>0</td>\n",
       "      <td>3</td>\n",
       "      <td>Braund, Mr. Owen Harris</td>\n",
       "      <td>1</td>\n",
       "      <td>22.0</td>\n",
       "      <td>1</td>\n",
       "      <td>0</td>\n",
       "      <td>A/5 21171</td>\n",
       "      <td>7.2500</td>\n",
       "      <td>NaN</td>\n",
       "      <td>0.0</td>\n",
       "    </tr>\n",
       "    <tr>\n",
       "      <th>1</th>\n",
       "      <td>2</td>\n",
       "      <td>1</td>\n",
       "      <td>1</td>\n",
       "      <td>Cumings, Mrs. John Bradley (Florence Briggs Th...</td>\n",
       "      <td>0</td>\n",
       "      <td>38.0</td>\n",
       "      <td>1</td>\n",
       "      <td>0</td>\n",
       "      <td>PC 17599</td>\n",
       "      <td>71.2833</td>\n",
       "      <td>C85</td>\n",
       "      <td>1.0</td>\n",
       "    </tr>\n",
       "    <tr>\n",
       "      <th>2</th>\n",
       "      <td>3</td>\n",
       "      <td>1</td>\n",
       "      <td>3</td>\n",
       "      <td>Heikkinen, Miss. Laina</td>\n",
       "      <td>0</td>\n",
       "      <td>26.0</td>\n",
       "      <td>0</td>\n",
       "      <td>0</td>\n",
       "      <td>STON/O2. 3101282</td>\n",
       "      <td>7.9250</td>\n",
       "      <td>NaN</td>\n",
       "      <td>0.0</td>\n",
       "    </tr>\n",
       "    <tr>\n",
       "      <th>3</th>\n",
       "      <td>4</td>\n",
       "      <td>1</td>\n",
       "      <td>1</td>\n",
       "      <td>Futrelle, Mrs. Jacques Heath (Lily May Peel)</td>\n",
       "      <td>0</td>\n",
       "      <td>35.0</td>\n",
       "      <td>1</td>\n",
       "      <td>0</td>\n",
       "      <td>113803</td>\n",
       "      <td>53.1000</td>\n",
       "      <td>C123</td>\n",
       "      <td>0.0</td>\n",
       "    </tr>\n",
       "    <tr>\n",
       "      <th>4</th>\n",
       "      <td>5</td>\n",
       "      <td>0</td>\n",
       "      <td>3</td>\n",
       "      <td>Allen, Mr. William Henry</td>\n",
       "      <td>1</td>\n",
       "      <td>35.0</td>\n",
       "      <td>0</td>\n",
       "      <td>0</td>\n",
       "      <td>373450</td>\n",
       "      <td>8.0500</td>\n",
       "      <td>NaN</td>\n",
       "      <td>0.0</td>\n",
       "    </tr>\n",
       "  </tbody>\n",
       "</table>\n",
       "</div>"
      ],
      "text/plain": [
       "   PassengerId  Survived  Pclass  \\\n",
       "0            1         0       3   \n",
       "1            2         1       1   \n",
       "2            3         1       3   \n",
       "3            4         1       1   \n",
       "4            5         0       3   \n",
       "\n",
       "                                                Name  Sex   Age  SibSp  Parch  \\\n",
       "0                            Braund, Mr. Owen Harris    1  22.0      1      0   \n",
       "1  Cumings, Mrs. John Bradley (Florence Briggs Th...    0  38.0      1      0   \n",
       "2                             Heikkinen, Miss. Laina    0  26.0      0      0   \n",
       "3       Futrelle, Mrs. Jacques Heath (Lily May Peel)    0  35.0      1      0   \n",
       "4                           Allen, Mr. William Henry    1  35.0      0      0   \n",
       "\n",
       "             Ticket     Fare Cabin  Embarked  \n",
       "0         A/5 21171   7.2500   NaN       0.0  \n",
       "1          PC 17599  71.2833   C85       1.0  \n",
       "2  STON/O2. 3101282   7.9250   NaN       0.0  \n",
       "3            113803  53.1000  C123       0.0  \n",
       "4            373450   8.0500   NaN       0.0  "
      ]
     },
     "execution_count": 14,
     "metadata": {},
     "output_type": "execute_result"
    }
   ],
   "source": [
    "#Replacing Sex with 0 or 1\n",
    "df['Sex'].replace('female',0,inplace=True)\n",
    "df['Sex'].replace('male',1,inplace=True)\n",
    "df.head()\n",
    "\n",
    "# Replacing Embarked with s--0 , C 001 \n",
    "\n",
    "df['Embarked'].replace('S',0,inplace=True)\n",
    "df['Embarked'].replace('C',1,inplace=True)\n",
    "df['Embarked'].replace('Q',2,inplace=True)\n",
    "\n",
    "df.head()\n",
    "\n",
    "# Note, if using KNN OR SVM, binarized is required.\n"
   ]
  },
  {
   "cell_type": "code",
   "execution_count": 15,
   "id": "material-pickup",
   "metadata": {
    "execution": {
     "iopub.execute_input": "2021-06-10T16:52:11.682699Z",
     "iopub.status.busy": "2021-06-10T16:52:11.681897Z",
     "iopub.status.idle": "2021-06-10T16:52:11.690879Z",
     "shell.execute_reply": "2021-06-10T16:52:11.690457Z"
    },
    "papermill": {
     "duration": 0.057304,
     "end_time": "2021-06-10T16:52:11.691011",
     "exception": false,
     "start_time": "2021-06-10T16:52:11.633707",
     "status": "completed"
    },
    "tags": []
   },
   "outputs": [
    {
     "name": "stdout",
     "output_type": "stream",
     "text": [
      "<class 'pandas.core.frame.DataFrame'>\n",
      "RangeIndex: 891 entries, 0 to 890\n",
      "Data columns (total 12 columns):\n",
      " #   Column       Non-Null Count  Dtype  \n",
      "---  ------       --------------  -----  \n",
      " 0   PassengerId  891 non-null    int64  \n",
      " 1   Survived     891 non-null    int64  \n",
      " 2   Pclass       891 non-null    int64  \n",
      " 3   Name         891 non-null    object \n",
      " 4   Sex          891 non-null    int64  \n",
      " 5   Age          714 non-null    float64\n",
      " 6   SibSp        891 non-null    int64  \n",
      " 7   Parch        891 non-null    int64  \n",
      " 8   Ticket       891 non-null    object \n",
      " 9   Fare         891 non-null    float64\n",
      " 10  Cabin        204 non-null    object \n",
      " 11  Embarked     889 non-null    float64\n",
      "dtypes: float64(3), int64(6), object(3)\n",
      "memory usage: 83.7+ KB\n"
     ]
    }
   ],
   "source": [
    "# Handling Nan Values in Age\n",
    "df.info()"
   ]
  },
  {
   "cell_type": "code",
   "execution_count": 16,
   "id": "hollywood-development",
   "metadata": {
    "execution": {
     "iopub.execute_input": "2021-06-10T16:52:11.789360Z",
     "iopub.status.busy": "2021-06-10T16:52:11.788660Z",
     "iopub.status.idle": "2021-06-10T16:52:11.791751Z",
     "shell.execute_reply": "2021-06-10T16:52:11.792109Z"
    },
    "papermill": {
     "duration": 0.05632,
     "end_time": "2021-06-10T16:52:11.792238",
     "exception": false,
     "start_time": "2021-06-10T16:52:11.735918",
     "status": "completed"
    },
    "tags": []
   },
   "outputs": [
    {
     "data": {
      "text/plain": [
       "PassengerId      0\n",
       "Survived         0\n",
       "Pclass           0\n",
       "Name             0\n",
       "Sex              0\n",
       "Age            177\n",
       "SibSp            0\n",
       "Parch            0\n",
       "Ticket           0\n",
       "Fare             0\n",
       "Cabin          687\n",
       "Embarked         2\n",
       "dtype: int64"
      ]
     },
     "execution_count": 16,
     "metadata": {},
     "output_type": "execute_result"
    }
   ],
   "source": [
    "df.isnull().sum()"
   ]
  },
  {
   "cell_type": "code",
   "execution_count": 17,
   "id": "vocal-editor",
   "metadata": {
    "execution": {
     "iopub.execute_input": "2021-06-10T16:52:11.887581Z",
     "iopub.status.busy": "2021-06-10T16:52:11.883109Z",
     "iopub.status.idle": "2021-06-10T16:52:11.890515Z",
     "shell.execute_reply": "2021-06-10T16:52:11.890972Z"
    },
    "papermill": {
     "duration": 0.055119,
     "end_time": "2021-06-10T16:52:11.891095",
     "exception": false,
     "start_time": "2021-06-10T16:52:11.835976",
     "status": "completed"
    },
    "tags": []
   },
   "outputs": [
    {
     "data": {
      "text/plain": [
       "PassengerId      0\n",
       "Survived         0\n",
       "Pclass           0\n",
       "Name             0\n",
       "Sex              0\n",
       "Age              0\n",
       "SibSp            0\n",
       "Parch            0\n",
       "Ticket           0\n",
       "Fare             0\n",
       "Cabin          687\n",
       "Embarked         2\n",
       "dtype: int64"
      ]
     },
     "execution_count": 17,
     "metadata": {},
     "output_type": "execute_result"
    }
   ],
   "source": [
    "df['Age']=df['Age'].replace(np.NaN,df['Age'].median())\n",
    "df.isnull().sum()\n",
    "\n"
   ]
  },
  {
   "cell_type": "code",
   "execution_count": 18,
   "id": "molecular-patient",
   "metadata": {
    "execution": {
     "iopub.execute_input": "2021-06-10T16:52:11.983466Z",
     "iopub.status.busy": "2021-06-10T16:52:11.982923Z",
     "iopub.status.idle": "2021-06-10T16:52:11.985483Z",
     "shell.execute_reply": "2021-06-10T16:52:11.985881Z"
    },
    "papermill": {
     "duration": 0.050976,
     "end_time": "2021-06-10T16:52:11.985997",
     "exception": false,
     "start_time": "2021-06-10T16:52:11.935021",
     "status": "completed"
    },
    "tags": []
   },
   "outputs": [],
   "source": [
    "df['Embarked'].fillna(df['Embarked'].mode().item() , inplace = True) # mode is best for categorical data"
   ]
  },
  {
   "cell_type": "code",
   "execution_count": 19,
   "id": "covered-campus",
   "metadata": {
    "execution": {
     "iopub.execute_input": "2021-06-10T16:52:12.079146Z",
     "iopub.status.busy": "2021-06-10T16:52:12.078398Z",
     "iopub.status.idle": "2021-06-10T16:52:12.083735Z",
     "shell.execute_reply": "2021-06-10T16:52:12.084154Z"
    },
    "papermill": {
     "duration": 0.054095,
     "end_time": "2021-06-10T16:52:12.084285",
     "exception": false,
     "start_time": "2021-06-10T16:52:12.030190",
     "status": "completed"
    },
    "tags": []
   },
   "outputs": [
    {
     "data": {
      "text/plain": [
       "PassengerId      0\n",
       "Survived         0\n",
       "Pclass           0\n",
       "Name             0\n",
       "Sex              0\n",
       "Age              0\n",
       "SibSp            0\n",
       "Parch            0\n",
       "Ticket           0\n",
       "Fare             0\n",
       "Cabin          687\n",
       "Embarked         0\n",
       "dtype: int64"
      ]
     },
     "execution_count": 19,
     "metadata": {},
     "output_type": "execute_result"
    }
   ],
   "source": [
    "df.isnull().sum()"
   ]
  },
  {
   "cell_type": "markdown",
   "id": "invalid-tourism",
   "metadata": {
    "papermill": {
     "duration": 0.044283,
     "end_time": "2021-06-10T16:52:12.172914",
     "exception": false,
     "start_time": "2021-06-10T16:52:12.128631",
     "status": "completed"
    },
    "tags": []
   },
   "source": [
    "### Feature Engineering"
   ]
  },
  {
   "cell_type": "code",
   "execution_count": 20,
   "id": "preceding-genre",
   "metadata": {
    "execution": {
     "iopub.execute_input": "2021-06-10T16:52:12.273633Z",
     "iopub.status.busy": "2021-06-10T16:52:12.272804Z",
     "iopub.status.idle": "2021-06-10T16:52:12.294042Z",
     "shell.execute_reply": "2021-06-10T16:52:12.293652Z"
    },
    "papermill": {
     "duration": 0.076243,
     "end_time": "2021-06-10T16:52:12.294150",
     "exception": false,
     "start_time": "2021-06-10T16:52:12.217907",
     "status": "completed"
    },
    "tags": []
   },
   "outputs": [
    {
     "data": {
      "text/html": [
       "<div>\n",
       "<style scoped>\n",
       "    .dataframe tbody tr th:only-of-type {\n",
       "        vertical-align: middle;\n",
       "    }\n",
       "\n",
       "    .dataframe tbody tr th {\n",
       "        vertical-align: top;\n",
       "    }\n",
       "\n",
       "    .dataframe thead th {\n",
       "        text-align: right;\n",
       "    }\n",
       "</style>\n",
       "<table border=\"1\" class=\"dataframe\">\n",
       "  <thead>\n",
       "    <tr style=\"text-align: right;\">\n",
       "      <th></th>\n",
       "      <th>PassengerId</th>\n",
       "      <th>Survived</th>\n",
       "      <th>Pclass</th>\n",
       "      <th>Name</th>\n",
       "      <th>Sex</th>\n",
       "      <th>Age</th>\n",
       "      <th>SibSp</th>\n",
       "      <th>Parch</th>\n",
       "      <th>Ticket</th>\n",
       "      <th>Fare</th>\n",
       "      <th>Cabin</th>\n",
       "      <th>Embarked</th>\n",
       "      <th>NameType</th>\n",
       "    </tr>\n",
       "  </thead>\n",
       "  <tbody>\n",
       "    <tr>\n",
       "      <th>0</th>\n",
       "      <td>1</td>\n",
       "      <td>0</td>\n",
       "      <td>3</td>\n",
       "      <td>Braund, Mr. Owen Harris</td>\n",
       "      <td>1</td>\n",
       "      <td>22.0</td>\n",
       "      <td>1</td>\n",
       "      <td>0</td>\n",
       "      <td>A/5 21171</td>\n",
       "      <td>7.2500</td>\n",
       "      <td>NaN</td>\n",
       "      <td>0.0</td>\n",
       "      <td>0</td>\n",
       "    </tr>\n",
       "    <tr>\n",
       "      <th>1</th>\n",
       "      <td>2</td>\n",
       "      <td>1</td>\n",
       "      <td>1</td>\n",
       "      <td>Cumings, Mrs. John Bradley (Florence Briggs Th...</td>\n",
       "      <td>0</td>\n",
       "      <td>38.0</td>\n",
       "      <td>1</td>\n",
       "      <td>0</td>\n",
       "      <td>PC 17599</td>\n",
       "      <td>71.2833</td>\n",
       "      <td>C85</td>\n",
       "      <td>1.0</td>\n",
       "      <td>1</td>\n",
       "    </tr>\n",
       "    <tr>\n",
       "      <th>2</th>\n",
       "      <td>3</td>\n",
       "      <td>1</td>\n",
       "      <td>3</td>\n",
       "      <td>Heikkinen, Miss. Laina</td>\n",
       "      <td>0</td>\n",
       "      <td>26.0</td>\n",
       "      <td>0</td>\n",
       "      <td>0</td>\n",
       "      <td>STON/O2. 3101282</td>\n",
       "      <td>7.9250</td>\n",
       "      <td>NaN</td>\n",
       "      <td>0.0</td>\n",
       "      <td>2</td>\n",
       "    </tr>\n",
       "    <tr>\n",
       "      <th>3</th>\n",
       "      <td>4</td>\n",
       "      <td>1</td>\n",
       "      <td>1</td>\n",
       "      <td>Futrelle, Mrs. Jacques Heath (Lily May Peel)</td>\n",
       "      <td>0</td>\n",
       "      <td>35.0</td>\n",
       "      <td>1</td>\n",
       "      <td>0</td>\n",
       "      <td>113803</td>\n",
       "      <td>53.1000</td>\n",
       "      <td>C123</td>\n",
       "      <td>0.0</td>\n",
       "      <td>1</td>\n",
       "    </tr>\n",
       "    <tr>\n",
       "      <th>4</th>\n",
       "      <td>5</td>\n",
       "      <td>0</td>\n",
       "      <td>3</td>\n",
       "      <td>Allen, Mr. William Henry</td>\n",
       "      <td>1</td>\n",
       "      <td>35.0</td>\n",
       "      <td>0</td>\n",
       "      <td>0</td>\n",
       "      <td>373450</td>\n",
       "      <td>8.0500</td>\n",
       "      <td>NaN</td>\n",
       "      <td>0.0</td>\n",
       "      <td>0</td>\n",
       "    </tr>\n",
       "    <tr>\n",
       "      <th>...</th>\n",
       "      <td>...</td>\n",
       "      <td>...</td>\n",
       "      <td>...</td>\n",
       "      <td>...</td>\n",
       "      <td>...</td>\n",
       "      <td>...</td>\n",
       "      <td>...</td>\n",
       "      <td>...</td>\n",
       "      <td>...</td>\n",
       "      <td>...</td>\n",
       "      <td>...</td>\n",
       "      <td>...</td>\n",
       "      <td>...</td>\n",
       "    </tr>\n",
       "    <tr>\n",
       "      <th>886</th>\n",
       "      <td>887</td>\n",
       "      <td>0</td>\n",
       "      <td>2</td>\n",
       "      <td>Montvila, Rev. Juozas</td>\n",
       "      <td>1</td>\n",
       "      <td>27.0</td>\n",
       "      <td>0</td>\n",
       "      <td>0</td>\n",
       "      <td>211536</td>\n",
       "      <td>13.0000</td>\n",
       "      <td>NaN</td>\n",
       "      <td>0.0</td>\n",
       "      <td>3</td>\n",
       "    </tr>\n",
       "    <tr>\n",
       "      <th>887</th>\n",
       "      <td>888</td>\n",
       "      <td>1</td>\n",
       "      <td>1</td>\n",
       "      <td>Graham, Miss. Margaret Edith</td>\n",
       "      <td>0</td>\n",
       "      <td>19.0</td>\n",
       "      <td>0</td>\n",
       "      <td>0</td>\n",
       "      <td>112053</td>\n",
       "      <td>30.0000</td>\n",
       "      <td>B42</td>\n",
       "      <td>0.0</td>\n",
       "      <td>2</td>\n",
       "    </tr>\n",
       "    <tr>\n",
       "      <th>888</th>\n",
       "      <td>889</td>\n",
       "      <td>0</td>\n",
       "      <td>3</td>\n",
       "      <td>Johnston, Miss. Catherine Helen \"Carrie\"</td>\n",
       "      <td>0</td>\n",
       "      <td>28.0</td>\n",
       "      <td>1</td>\n",
       "      <td>2</td>\n",
       "      <td>W./C. 6607</td>\n",
       "      <td>23.4500</td>\n",
       "      <td>NaN</td>\n",
       "      <td>0.0</td>\n",
       "      <td>2</td>\n",
       "    </tr>\n",
       "    <tr>\n",
       "      <th>889</th>\n",
       "      <td>890</td>\n",
       "      <td>1</td>\n",
       "      <td>1</td>\n",
       "      <td>Behr, Mr. Karl Howell</td>\n",
       "      <td>1</td>\n",
       "      <td>26.0</td>\n",
       "      <td>0</td>\n",
       "      <td>0</td>\n",
       "      <td>111369</td>\n",
       "      <td>30.0000</td>\n",
       "      <td>C148</td>\n",
       "      <td>1.0</td>\n",
       "      <td>0</td>\n",
       "    </tr>\n",
       "    <tr>\n",
       "      <th>890</th>\n",
       "      <td>891</td>\n",
       "      <td>0</td>\n",
       "      <td>3</td>\n",
       "      <td>Dooley, Mr. Patrick</td>\n",
       "      <td>1</td>\n",
       "      <td>32.0</td>\n",
       "      <td>0</td>\n",
       "      <td>0</td>\n",
       "      <td>370376</td>\n",
       "      <td>7.7500</td>\n",
       "      <td>NaN</td>\n",
       "      <td>2.0</td>\n",
       "      <td>0</td>\n",
       "    </tr>\n",
       "  </tbody>\n",
       "</table>\n",
       "<p>891 rows × 13 columns</p>\n",
       "</div>"
      ],
      "text/plain": [
       "     PassengerId  Survived  Pclass  \\\n",
       "0              1         0       3   \n",
       "1              2         1       1   \n",
       "2              3         1       3   \n",
       "3              4         1       1   \n",
       "4              5         0       3   \n",
       "..           ...       ...     ...   \n",
       "886          887         0       2   \n",
       "887          888         1       1   \n",
       "888          889         0       3   \n",
       "889          890         1       1   \n",
       "890          891         0       3   \n",
       "\n",
       "                                                  Name  Sex   Age  SibSp  \\\n",
       "0                              Braund, Mr. Owen Harris    1  22.0      1   \n",
       "1    Cumings, Mrs. John Bradley (Florence Briggs Th...    0  38.0      1   \n",
       "2                               Heikkinen, Miss. Laina    0  26.0      0   \n",
       "3         Futrelle, Mrs. Jacques Heath (Lily May Peel)    0  35.0      1   \n",
       "4                             Allen, Mr. William Henry    1  35.0      0   \n",
       "..                                                 ...  ...   ...    ...   \n",
       "886                              Montvila, Rev. Juozas    1  27.0      0   \n",
       "887                       Graham, Miss. Margaret Edith    0  19.0      0   \n",
       "888           Johnston, Miss. Catherine Helen \"Carrie\"    0  28.0      1   \n",
       "889                              Behr, Mr. Karl Howell    1  26.0      0   \n",
       "890                                Dooley, Mr. Patrick    1  32.0      0   \n",
       "\n",
       "     Parch            Ticket     Fare Cabin  Embarked  NameType  \n",
       "0        0         A/5 21171   7.2500   NaN       0.0         0  \n",
       "1        0          PC 17599  71.2833   C85       1.0         1  \n",
       "2        0  STON/O2. 3101282   7.9250   NaN       0.0         2  \n",
       "3        0            113803  53.1000  C123       0.0         1  \n",
       "4        0            373450   8.0500   NaN       0.0         0  \n",
       "..     ...               ...      ...   ...       ...       ...  \n",
       "886      0            211536  13.0000   NaN       0.0         3  \n",
       "887      0            112053  30.0000   B42       0.0         2  \n",
       "888      2        W./C. 6607  23.4500   NaN       0.0         2  \n",
       "889      0            111369  30.0000  C148       1.0         0  \n",
       "890      0            370376   7.7500   NaN       2.0         0  \n",
       "\n",
       "[891 rows x 13 columns]"
      ]
     },
     "execution_count": 20,
     "metadata": {},
     "output_type": "execute_result"
    }
   ],
   "source": [
    "# handling name\n",
    "def extract_type(name):\n",
    "    title= name.split(',')[1].split('.')[0]\n",
    "    \n",
    "    if (title.strip() == \"Mr\") :\n",
    "        return 0 \n",
    "    if (title.strip() == \"Mrs\") : \n",
    "        return 1 \n",
    "    if (title.strip() == \"Miss\") :\n",
    "        return 2\n",
    "    else :\n",
    "        return 3\n",
    "   \n",
    "\n",
    "df['NameType'] =  df['Name'].apply(extract_type)\n",
    "df['NameType'] = pd.to_numeric(df['NameType'])\n",
    "\n",
    "df"
   ]
  },
  {
   "cell_type": "code",
   "execution_count": 21,
   "id": "cooperative-ozone",
   "metadata": {
    "execution": {
     "iopub.execute_input": "2021-06-10T16:52:12.391559Z",
     "iopub.status.busy": "2021-06-10T16:52:12.390754Z",
     "iopub.status.idle": "2021-06-10T16:52:12.417503Z",
     "shell.execute_reply": "2021-06-10T16:52:12.417937Z"
    },
    "papermill": {
     "duration": 0.077427,
     "end_time": "2021-06-10T16:52:12.418074",
     "exception": false,
     "start_time": "2021-06-10T16:52:12.340647",
     "status": "completed"
    },
    "tags": []
   },
   "outputs": [
    {
     "data": {
      "text/html": [
       "<div>\n",
       "<style scoped>\n",
       "    .dataframe tbody tr th:only-of-type {\n",
       "        vertical-align: middle;\n",
       "    }\n",
       "\n",
       "    .dataframe tbody tr th {\n",
       "        vertical-align: top;\n",
       "    }\n",
       "\n",
       "    .dataframe thead th {\n",
       "        text-align: right;\n",
       "    }\n",
       "</style>\n",
       "<table border=\"1\" class=\"dataframe\">\n",
       "  <thead>\n",
       "    <tr style=\"text-align: right;\">\n",
       "      <th></th>\n",
       "      <th>PassengerId</th>\n",
       "      <th>Survived</th>\n",
       "      <th>Pclass</th>\n",
       "      <th>Name</th>\n",
       "      <th>Sex</th>\n",
       "      <th>Age</th>\n",
       "      <th>SibSp</th>\n",
       "      <th>Parch</th>\n",
       "      <th>Ticket</th>\n",
       "      <th>Fare</th>\n",
       "      <th>Cabin</th>\n",
       "      <th>Embarked</th>\n",
       "      <th>NameType</th>\n",
       "      <th>Mr</th>\n",
       "      <th>Mrs</th>\n",
       "      <th>Miss</th>\n",
       "      <th>Others</th>\n",
       "    </tr>\n",
       "  </thead>\n",
       "  <tbody>\n",
       "    <tr>\n",
       "      <th>0</th>\n",
       "      <td>1</td>\n",
       "      <td>0</td>\n",
       "      <td>3</td>\n",
       "      <td>Braund, Mr. Owen Harris</td>\n",
       "      <td>1</td>\n",
       "      <td>22.0</td>\n",
       "      <td>1</td>\n",
       "      <td>0</td>\n",
       "      <td>A/5 21171</td>\n",
       "      <td>7.2500</td>\n",
       "      <td>NaN</td>\n",
       "      <td>0.0</td>\n",
       "      <td>0</td>\n",
       "      <td>1</td>\n",
       "      <td>0</td>\n",
       "      <td>0</td>\n",
       "      <td>0</td>\n",
       "    </tr>\n",
       "    <tr>\n",
       "      <th>1</th>\n",
       "      <td>2</td>\n",
       "      <td>1</td>\n",
       "      <td>1</td>\n",
       "      <td>Cumings, Mrs. John Bradley (Florence Briggs Th...</td>\n",
       "      <td>0</td>\n",
       "      <td>38.0</td>\n",
       "      <td>1</td>\n",
       "      <td>0</td>\n",
       "      <td>PC 17599</td>\n",
       "      <td>71.2833</td>\n",
       "      <td>C85</td>\n",
       "      <td>1.0</td>\n",
       "      <td>1</td>\n",
       "      <td>0</td>\n",
       "      <td>1</td>\n",
       "      <td>0</td>\n",
       "      <td>0</td>\n",
       "    </tr>\n",
       "    <tr>\n",
       "      <th>2</th>\n",
       "      <td>3</td>\n",
       "      <td>1</td>\n",
       "      <td>3</td>\n",
       "      <td>Heikkinen, Miss. Laina</td>\n",
       "      <td>0</td>\n",
       "      <td>26.0</td>\n",
       "      <td>0</td>\n",
       "      <td>0</td>\n",
       "      <td>STON/O2. 3101282</td>\n",
       "      <td>7.9250</td>\n",
       "      <td>NaN</td>\n",
       "      <td>0.0</td>\n",
       "      <td>2</td>\n",
       "      <td>0</td>\n",
       "      <td>0</td>\n",
       "      <td>1</td>\n",
       "      <td>0</td>\n",
       "    </tr>\n",
       "    <tr>\n",
       "      <th>3</th>\n",
       "      <td>4</td>\n",
       "      <td>1</td>\n",
       "      <td>1</td>\n",
       "      <td>Futrelle, Mrs. Jacques Heath (Lily May Peel)</td>\n",
       "      <td>0</td>\n",
       "      <td>35.0</td>\n",
       "      <td>1</td>\n",
       "      <td>0</td>\n",
       "      <td>113803</td>\n",
       "      <td>53.1000</td>\n",
       "      <td>C123</td>\n",
       "      <td>0.0</td>\n",
       "      <td>1</td>\n",
       "      <td>0</td>\n",
       "      <td>1</td>\n",
       "      <td>0</td>\n",
       "      <td>0</td>\n",
       "    </tr>\n",
       "    <tr>\n",
       "      <th>4</th>\n",
       "      <td>5</td>\n",
       "      <td>0</td>\n",
       "      <td>3</td>\n",
       "      <td>Allen, Mr. William Henry</td>\n",
       "      <td>1</td>\n",
       "      <td>35.0</td>\n",
       "      <td>0</td>\n",
       "      <td>0</td>\n",
       "      <td>373450</td>\n",
       "      <td>8.0500</td>\n",
       "      <td>NaN</td>\n",
       "      <td>0.0</td>\n",
       "      <td>0</td>\n",
       "      <td>1</td>\n",
       "      <td>0</td>\n",
       "      <td>0</td>\n",
       "      <td>0</td>\n",
       "    </tr>\n",
       "    <tr>\n",
       "      <th>...</th>\n",
       "      <td>...</td>\n",
       "      <td>...</td>\n",
       "      <td>...</td>\n",
       "      <td>...</td>\n",
       "      <td>...</td>\n",
       "      <td>...</td>\n",
       "      <td>...</td>\n",
       "      <td>...</td>\n",
       "      <td>...</td>\n",
       "      <td>...</td>\n",
       "      <td>...</td>\n",
       "      <td>...</td>\n",
       "      <td>...</td>\n",
       "      <td>...</td>\n",
       "      <td>...</td>\n",
       "      <td>...</td>\n",
       "      <td>...</td>\n",
       "    </tr>\n",
       "    <tr>\n",
       "      <th>886</th>\n",
       "      <td>887</td>\n",
       "      <td>0</td>\n",
       "      <td>2</td>\n",
       "      <td>Montvila, Rev. Juozas</td>\n",
       "      <td>1</td>\n",
       "      <td>27.0</td>\n",
       "      <td>0</td>\n",
       "      <td>0</td>\n",
       "      <td>211536</td>\n",
       "      <td>13.0000</td>\n",
       "      <td>NaN</td>\n",
       "      <td>0.0</td>\n",
       "      <td>3</td>\n",
       "      <td>0</td>\n",
       "      <td>0</td>\n",
       "      <td>0</td>\n",
       "      <td>1</td>\n",
       "    </tr>\n",
       "    <tr>\n",
       "      <th>887</th>\n",
       "      <td>888</td>\n",
       "      <td>1</td>\n",
       "      <td>1</td>\n",
       "      <td>Graham, Miss. Margaret Edith</td>\n",
       "      <td>0</td>\n",
       "      <td>19.0</td>\n",
       "      <td>0</td>\n",
       "      <td>0</td>\n",
       "      <td>112053</td>\n",
       "      <td>30.0000</td>\n",
       "      <td>B42</td>\n",
       "      <td>0.0</td>\n",
       "      <td>2</td>\n",
       "      <td>0</td>\n",
       "      <td>0</td>\n",
       "      <td>1</td>\n",
       "      <td>0</td>\n",
       "    </tr>\n",
       "    <tr>\n",
       "      <th>888</th>\n",
       "      <td>889</td>\n",
       "      <td>0</td>\n",
       "      <td>3</td>\n",
       "      <td>Johnston, Miss. Catherine Helen \"Carrie\"</td>\n",
       "      <td>0</td>\n",
       "      <td>28.0</td>\n",
       "      <td>1</td>\n",
       "      <td>2</td>\n",
       "      <td>W./C. 6607</td>\n",
       "      <td>23.4500</td>\n",
       "      <td>NaN</td>\n",
       "      <td>0.0</td>\n",
       "      <td>2</td>\n",
       "      <td>0</td>\n",
       "      <td>0</td>\n",
       "      <td>1</td>\n",
       "      <td>0</td>\n",
       "    </tr>\n",
       "    <tr>\n",
       "      <th>889</th>\n",
       "      <td>890</td>\n",
       "      <td>1</td>\n",
       "      <td>1</td>\n",
       "      <td>Behr, Mr. Karl Howell</td>\n",
       "      <td>1</td>\n",
       "      <td>26.0</td>\n",
       "      <td>0</td>\n",
       "      <td>0</td>\n",
       "      <td>111369</td>\n",
       "      <td>30.0000</td>\n",
       "      <td>C148</td>\n",
       "      <td>1.0</td>\n",
       "      <td>0</td>\n",
       "      <td>1</td>\n",
       "      <td>0</td>\n",
       "      <td>0</td>\n",
       "      <td>0</td>\n",
       "    </tr>\n",
       "    <tr>\n",
       "      <th>890</th>\n",
       "      <td>891</td>\n",
       "      <td>0</td>\n",
       "      <td>3</td>\n",
       "      <td>Dooley, Mr. Patrick</td>\n",
       "      <td>1</td>\n",
       "      <td>32.0</td>\n",
       "      <td>0</td>\n",
       "      <td>0</td>\n",
       "      <td>370376</td>\n",
       "      <td>7.7500</td>\n",
       "      <td>NaN</td>\n",
       "      <td>2.0</td>\n",
       "      <td>0</td>\n",
       "      <td>1</td>\n",
       "      <td>0</td>\n",
       "      <td>0</td>\n",
       "      <td>0</td>\n",
       "    </tr>\n",
       "  </tbody>\n",
       "</table>\n",
       "<p>891 rows × 17 columns</p>\n",
       "</div>"
      ],
      "text/plain": [
       "     PassengerId  Survived  Pclass  \\\n",
       "0              1         0       3   \n",
       "1              2         1       1   \n",
       "2              3         1       3   \n",
       "3              4         1       1   \n",
       "4              5         0       3   \n",
       "..           ...       ...     ...   \n",
       "886          887         0       2   \n",
       "887          888         1       1   \n",
       "888          889         0       3   \n",
       "889          890         1       1   \n",
       "890          891         0       3   \n",
       "\n",
       "                                                  Name  Sex   Age  SibSp  \\\n",
       "0                              Braund, Mr. Owen Harris    1  22.0      1   \n",
       "1    Cumings, Mrs. John Bradley (Florence Briggs Th...    0  38.0      1   \n",
       "2                               Heikkinen, Miss. Laina    0  26.0      0   \n",
       "3         Futrelle, Mrs. Jacques Heath (Lily May Peel)    0  35.0      1   \n",
       "4                             Allen, Mr. William Henry    1  35.0      0   \n",
       "..                                                 ...  ...   ...    ...   \n",
       "886                              Montvila, Rev. Juozas    1  27.0      0   \n",
       "887                       Graham, Miss. Margaret Edith    0  19.0      0   \n",
       "888           Johnston, Miss. Catherine Helen \"Carrie\"    0  28.0      1   \n",
       "889                              Behr, Mr. Karl Howell    1  26.0      0   \n",
       "890                                Dooley, Mr. Patrick    1  32.0      0   \n",
       "\n",
       "     Parch            Ticket     Fare Cabin  Embarked  NameType  Mr  Mrs  \\\n",
       "0        0         A/5 21171   7.2500   NaN       0.0         0   1    0   \n",
       "1        0          PC 17599  71.2833   C85       1.0         1   0    1   \n",
       "2        0  STON/O2. 3101282   7.9250   NaN       0.0         2   0    0   \n",
       "3        0            113803  53.1000  C123       0.0         1   0    1   \n",
       "4        0            373450   8.0500   NaN       0.0         0   1    0   \n",
       "..     ...               ...      ...   ...       ...       ...  ..  ...   \n",
       "886      0            211536  13.0000   NaN       0.0         3   0    0   \n",
       "887      0            112053  30.0000   B42       0.0         2   0    0   \n",
       "888      2        W./C. 6607  23.4500   NaN       0.0         2   0    0   \n",
       "889      0            111369  30.0000  C148       1.0         0   1    0   \n",
       "890      0            370376   7.7500   NaN       2.0         0   1    0   \n",
       "\n",
       "     Miss  Others  \n",
       "0       0       0  \n",
       "1       0       0  \n",
       "2       1       0  \n",
       "3       0       0  \n",
       "4       0       0  \n",
       "..    ...     ...  \n",
       "886     0       1  \n",
       "887     1       0  \n",
       "888     1       0  \n",
       "889     0       0  \n",
       "890     0       0  \n",
       "\n",
       "[891 rows x 17 columns]"
      ]
     },
     "execution_count": 21,
     "metadata": {},
     "output_type": "execute_result"
    }
   ],
   "source": [
    " #converting 0,1,2 data into dummy or indicator variables.\n",
    "dummies = pd.get_dummies(df['NameType'], prefix='NameType')\n",
    "df = pd.concat([df, dummies], axis=1)\n",
    "df.rename({'NameType_0': 'Mr', 'NameType_1': 'Mrs','NameType_2': 'Miss'\n",
    "           ,'NameType_3': 'Others'},\n",
    "          axis=1, inplace=True)\n",
    "\n",
    "df\n"
   ]
  },
  {
   "cell_type": "code",
   "execution_count": 22,
   "id": "about-preliminary",
   "metadata": {
    "execution": {
     "iopub.execute_input": "2021-06-10T16:52:12.520628Z",
     "iopub.status.busy": "2021-06-10T16:52:12.519765Z",
     "iopub.status.idle": "2021-06-10T16:52:12.535159Z",
     "shell.execute_reply": "2021-06-10T16:52:12.534728Z"
    },
    "papermill": {
     "duration": 0.069984,
     "end_time": "2021-06-10T16:52:12.535280",
     "exception": false,
     "start_time": "2021-06-10T16:52:12.465296",
     "status": "completed"
    },
    "tags": []
   },
   "outputs": [
    {
     "data": {
      "text/html": [
       "<div>\n",
       "<style scoped>\n",
       "    .dataframe tbody tr th:only-of-type {\n",
       "        vertical-align: middle;\n",
       "    }\n",
       "\n",
       "    .dataframe tbody tr th {\n",
       "        vertical-align: top;\n",
       "    }\n",
       "\n",
       "    .dataframe thead th {\n",
       "        text-align: right;\n",
       "    }\n",
       "</style>\n",
       "<table border=\"1\" class=\"dataframe\">\n",
       "  <thead>\n",
       "    <tr style=\"text-align: right;\">\n",
       "      <th></th>\n",
       "      <th>PassengerId</th>\n",
       "      <th>Survived</th>\n",
       "      <th>Pclass</th>\n",
       "      <th>Name</th>\n",
       "      <th>Sex</th>\n",
       "      <th>Age</th>\n",
       "      <th>SibSp</th>\n",
       "      <th>Parch</th>\n",
       "      <th>Ticket</th>\n",
       "      <th>Fare</th>\n",
       "      <th>Cabin</th>\n",
       "      <th>Embarked</th>\n",
       "      <th>NameType</th>\n",
       "      <th>Mr</th>\n",
       "      <th>Mrs</th>\n",
       "      <th>Miss</th>\n",
       "      <th>Others</th>\n",
       "      <th>FamilyMembers</th>\n",
       "      <th>FarePerMember</th>\n",
       "      <th>Age*Class</th>\n",
       "    </tr>\n",
       "  </thead>\n",
       "  <tbody>\n",
       "    <tr>\n",
       "      <th>0</th>\n",
       "      <td>1</td>\n",
       "      <td>0</td>\n",
       "      <td>3</td>\n",
       "      <td>Braund, Mr. Owen Harris</td>\n",
       "      <td>1</td>\n",
       "      <td>22.0</td>\n",
       "      <td>1</td>\n",
       "      <td>0</td>\n",
       "      <td>A/5 21171</td>\n",
       "      <td>7.2500</td>\n",
       "      <td>NaN</td>\n",
       "      <td>0.0</td>\n",
       "      <td>0</td>\n",
       "      <td>1</td>\n",
       "      <td>0</td>\n",
       "      <td>0</td>\n",
       "      <td>0</td>\n",
       "      <td>1</td>\n",
       "      <td>3.62500</td>\n",
       "      <td>66.0</td>\n",
       "    </tr>\n",
       "    <tr>\n",
       "      <th>1</th>\n",
       "      <td>2</td>\n",
       "      <td>1</td>\n",
       "      <td>1</td>\n",
       "      <td>Cumings, Mrs. John Bradley (Florence Briggs Th...</td>\n",
       "      <td>0</td>\n",
       "      <td>38.0</td>\n",
       "      <td>1</td>\n",
       "      <td>0</td>\n",
       "      <td>PC 17599</td>\n",
       "      <td>71.2833</td>\n",
       "      <td>C85</td>\n",
       "      <td>1.0</td>\n",
       "      <td>1</td>\n",
       "      <td>0</td>\n",
       "      <td>1</td>\n",
       "      <td>0</td>\n",
       "      <td>0</td>\n",
       "      <td>1</td>\n",
       "      <td>35.64165</td>\n",
       "      <td>38.0</td>\n",
       "    </tr>\n",
       "    <tr>\n",
       "      <th>2</th>\n",
       "      <td>3</td>\n",
       "      <td>1</td>\n",
       "      <td>3</td>\n",
       "      <td>Heikkinen, Miss. Laina</td>\n",
       "      <td>0</td>\n",
       "      <td>26.0</td>\n",
       "      <td>0</td>\n",
       "      <td>0</td>\n",
       "      <td>STON/O2. 3101282</td>\n",
       "      <td>7.9250</td>\n",
       "      <td>NaN</td>\n",
       "      <td>0.0</td>\n",
       "      <td>2</td>\n",
       "      <td>0</td>\n",
       "      <td>0</td>\n",
       "      <td>1</td>\n",
       "      <td>0</td>\n",
       "      <td>0</td>\n",
       "      <td>7.92500</td>\n",
       "      <td>78.0</td>\n",
       "    </tr>\n",
       "    <tr>\n",
       "      <th>3</th>\n",
       "      <td>4</td>\n",
       "      <td>1</td>\n",
       "      <td>1</td>\n",
       "      <td>Futrelle, Mrs. Jacques Heath (Lily May Peel)</td>\n",
       "      <td>0</td>\n",
       "      <td>35.0</td>\n",
       "      <td>1</td>\n",
       "      <td>0</td>\n",
       "      <td>113803</td>\n",
       "      <td>53.1000</td>\n",
       "      <td>C123</td>\n",
       "      <td>0.0</td>\n",
       "      <td>1</td>\n",
       "      <td>0</td>\n",
       "      <td>1</td>\n",
       "      <td>0</td>\n",
       "      <td>0</td>\n",
       "      <td>1</td>\n",
       "      <td>26.55000</td>\n",
       "      <td>35.0</td>\n",
       "    </tr>\n",
       "    <tr>\n",
       "      <th>4</th>\n",
       "      <td>5</td>\n",
       "      <td>0</td>\n",
       "      <td>3</td>\n",
       "      <td>Allen, Mr. William Henry</td>\n",
       "      <td>1</td>\n",
       "      <td>35.0</td>\n",
       "      <td>0</td>\n",
       "      <td>0</td>\n",
       "      <td>373450</td>\n",
       "      <td>8.0500</td>\n",
       "      <td>NaN</td>\n",
       "      <td>0.0</td>\n",
       "      <td>0</td>\n",
       "      <td>1</td>\n",
       "      <td>0</td>\n",
       "      <td>0</td>\n",
       "      <td>0</td>\n",
       "      <td>0</td>\n",
       "      <td>8.05000</td>\n",
       "      <td>105.0</td>\n",
       "    </tr>\n",
       "  </tbody>\n",
       "</table>\n",
       "</div>"
      ],
      "text/plain": [
       "   PassengerId  Survived  Pclass  \\\n",
       "0            1         0       3   \n",
       "1            2         1       1   \n",
       "2            3         1       3   \n",
       "3            4         1       1   \n",
       "4            5         0       3   \n",
       "\n",
       "                                                Name  Sex   Age  SibSp  Parch  \\\n",
       "0                            Braund, Mr. Owen Harris    1  22.0      1      0   \n",
       "1  Cumings, Mrs. John Bradley (Florence Briggs Th...    0  38.0      1      0   \n",
       "2                             Heikkinen, Miss. Laina    0  26.0      0      0   \n",
       "3       Futrelle, Mrs. Jacques Heath (Lily May Peel)    0  35.0      1      0   \n",
       "4                           Allen, Mr. William Henry    1  35.0      0      0   \n",
       "\n",
       "             Ticket     Fare Cabin  Embarked  NameType  Mr  Mrs  Miss  Others  \\\n",
       "0         A/5 21171   7.2500   NaN       0.0         0   1    0     0       0   \n",
       "1          PC 17599  71.2833   C85       1.0         1   0    1     0       0   \n",
       "2  STON/O2. 3101282   7.9250   NaN       0.0         2   0    0     1       0   \n",
       "3            113803  53.1000  C123       0.0         1   0    1     0       0   \n",
       "4            373450   8.0500   NaN       0.0         0   1    0     0       0   \n",
       "\n",
       "   FamilyMembers  FarePerMember  Age*Class  \n",
       "0              1        3.62500       66.0  \n",
       "1              1       35.64165       38.0  \n",
       "2              0        7.92500       78.0  \n",
       "3              1       26.55000       35.0  \n",
       "4              0        8.05000      105.0  "
      ]
     },
     "execution_count": 22,
     "metadata": {},
     "output_type": "execute_result"
    }
   ],
   "source": [
    "# Merging SibSp and Parch as the total family members, they are correlated together but uncorrelated to survived, let's see if it makes a difference\n",
    "df['FamilyMembers']=df['SibSp']+df['Parch']\n",
    "#Fare is the same for the same ticket, which means it's the total price of the family, let's find fare per member\n",
    "df['FarePerMember']=df['Fare']/(df['FamilyMembers']+1)\n",
    "# this is an example that I got from the internet of feature engineering.\n",
    "df['Age*Class']=df['Age']*df['Pclass']\n",
    "df.head()\n"
   ]
  },
  {
   "cell_type": "code",
   "execution_count": 23,
   "id": "offshore-ethernet",
   "metadata": {
    "execution": {
     "iopub.execute_input": "2021-06-10T16:52:12.636074Z",
     "iopub.status.busy": "2021-06-10T16:52:12.635337Z",
     "iopub.status.idle": "2021-06-10T16:52:14.098904Z",
     "shell.execute_reply": "2021-06-10T16:52:14.098480Z"
    },
    "papermill": {
     "duration": 1.515763,
     "end_time": "2021-06-10T16:52:14.099039",
     "exception": false,
     "start_time": "2021-06-10T16:52:12.583276",
     "status": "completed"
    },
    "tags": []
   },
   "outputs": [
    {
     "data": {
      "image/png": "[encoded data removed]",
      "text/plain": [
       "<Figure size 864x720 with 2 Axes>"
      ]
     },
     "metadata": {
      "needs_background": "light"
     },
     "output_type": "display_data"
    }
   ],
   "source": [
    "plt.figure(figsize=(12,10))\n",
    "cor = df.corr()\n",
    "sns.heatmap(cor, annot=True, cmap=plt.cm.Reds)\n",
    "plt.show()"
   ]
  },
  {
   "cell_type": "markdown",
   "id": "narrative-athletics",
   "metadata": {
    "papermill": {
     "duration": 0.050473,
     "end_time": "2021-06-10T16:52:14.201132",
     "exception": false,
     "start_time": "2021-06-10T16:52:14.150659",
     "status": "completed"
    },
    "tags": []
   },
   "source": [
    "### Feature Selection"
   ]
  },
  {
   "cell_type": "code",
   "execution_count": 24,
   "id": "adverse-dominant",
   "metadata": {
    "execution": {
     "iopub.execute_input": "2021-06-10T16:52:14.308873Z",
     "iopub.status.busy": "2021-06-10T16:52:14.308039Z",
     "iopub.status.idle": "2021-06-10T16:52:14.325840Z",
     "shell.execute_reply": "2021-06-10T16:52:14.325345Z"
    },
    "papermill": {
     "duration": 0.073813,
     "end_time": "2021-06-10T16:52:14.325974",
     "exception": false,
     "start_time": "2021-06-10T16:52:14.252161",
     "status": "completed"
    },
    "tags": []
   },
   "outputs": [
    {
     "data": {
      "text/html": [
       "<div>\n",
       "<style scoped>\n",
       "    .dataframe tbody tr th:only-of-type {\n",
       "        vertical-align: middle;\n",
       "    }\n",
       "\n",
       "    .dataframe tbody tr th {\n",
       "        vertical-align: top;\n",
       "    }\n",
       "\n",
       "    .dataframe thead th {\n",
       "        text-align: right;\n",
       "    }\n",
       "</style>\n",
       "<table border=\"1\" class=\"dataframe\">\n",
       "  <thead>\n",
       "    <tr style=\"text-align: right;\">\n",
       "      <th></th>\n",
       "      <th>Age</th>\n",
       "      <th>Sex</th>\n",
       "      <th>FarePerMember</th>\n",
       "      <th>Mr</th>\n",
       "      <th>Age*Class</th>\n",
       "      <th>Miss</th>\n",
       "      <th>Pclass</th>\n",
       "    </tr>\n",
       "  </thead>\n",
       "  <tbody>\n",
       "    <tr>\n",
       "      <th>0</th>\n",
       "      <td>22.0</td>\n",
       "      <td>1</td>\n",
       "      <td>3.62500</td>\n",
       "      <td>1</td>\n",
       "      <td>66.0</td>\n",
       "      <td>0</td>\n",
       "      <td>3</td>\n",
       "    </tr>\n",
       "    <tr>\n",
       "      <th>1</th>\n",
       "      <td>38.0</td>\n",
       "      <td>0</td>\n",
       "      <td>35.64165</td>\n",
       "      <td>0</td>\n",
       "      <td>38.0</td>\n",
       "      <td>0</td>\n",
       "      <td>1</td>\n",
       "    </tr>\n",
       "    <tr>\n",
       "      <th>2</th>\n",
       "      <td>26.0</td>\n",
       "      <td>0</td>\n",
       "      <td>7.92500</td>\n",
       "      <td>0</td>\n",
       "      <td>78.0</td>\n",
       "      <td>1</td>\n",
       "      <td>3</td>\n",
       "    </tr>\n",
       "    <tr>\n",
       "      <th>3</th>\n",
       "      <td>35.0</td>\n",
       "      <td>0</td>\n",
       "      <td>26.55000</td>\n",
       "      <td>0</td>\n",
       "      <td>35.0</td>\n",
       "      <td>0</td>\n",
       "      <td>1</td>\n",
       "    </tr>\n",
       "    <tr>\n",
       "      <th>4</th>\n",
       "      <td>35.0</td>\n",
       "      <td>1</td>\n",
       "      <td>8.05000</td>\n",
       "      <td>1</td>\n",
       "      <td>105.0</td>\n",
       "      <td>0</td>\n",
       "      <td>3</td>\n",
       "    </tr>\n",
       "    <tr>\n",
       "      <th>...</th>\n",
       "      <td>...</td>\n",
       "      <td>...</td>\n",
       "      <td>...</td>\n",
       "      <td>...</td>\n",
       "      <td>...</td>\n",
       "      <td>...</td>\n",
       "      <td>...</td>\n",
       "    </tr>\n",
       "    <tr>\n",
       "      <th>886</th>\n",
       "      <td>27.0</td>\n",
       "      <td>1</td>\n",
       "      <td>13.00000</td>\n",
       "      <td>0</td>\n",
       "      <td>54.0</td>\n",
       "      <td>0</td>\n",
       "      <td>2</td>\n",
       "    </tr>\n",
       "    <tr>\n",
       "      <th>887</th>\n",
       "      <td>19.0</td>\n",
       "      <td>0</td>\n",
       "      <td>30.00000</td>\n",
       "      <td>0</td>\n",
       "      <td>19.0</td>\n",
       "      <td>1</td>\n",
       "      <td>1</td>\n",
       "    </tr>\n",
       "    <tr>\n",
       "      <th>888</th>\n",
       "      <td>28.0</td>\n",
       "      <td>0</td>\n",
       "      <td>5.86250</td>\n",
       "      <td>0</td>\n",
       "      <td>84.0</td>\n",
       "      <td>1</td>\n",
       "      <td>3</td>\n",
       "    </tr>\n",
       "    <tr>\n",
       "      <th>889</th>\n",
       "      <td>26.0</td>\n",
       "      <td>1</td>\n",
       "      <td>30.00000</td>\n",
       "      <td>1</td>\n",
       "      <td>26.0</td>\n",
       "      <td>0</td>\n",
       "      <td>1</td>\n",
       "    </tr>\n",
       "    <tr>\n",
       "      <th>890</th>\n",
       "      <td>32.0</td>\n",
       "      <td>1</td>\n",
       "      <td>7.75000</td>\n",
       "      <td>1</td>\n",
       "      <td>96.0</td>\n",
       "      <td>0</td>\n",
       "      <td>3</td>\n",
       "    </tr>\n",
       "  </tbody>\n",
       "</table>\n",
       "<p>891 rows × 7 columns</p>\n",
       "</div>"
      ],
      "text/plain": [
       "      Age  Sex  FarePerMember  Mr  Age*Class  Miss  Pclass\n",
       "0    22.0    1        3.62500   1       66.0     0       3\n",
       "1    38.0    0       35.64165   0       38.0     0       1\n",
       "2    26.0    0        7.92500   0       78.0     1       3\n",
       "3    35.0    0       26.55000   0       35.0     0       1\n",
       "4    35.0    1        8.05000   1      105.0     0       3\n",
       "..    ...  ...            ...  ..        ...   ...     ...\n",
       "886  27.0    1       13.00000   0       54.0     0       2\n",
       "887  19.0    0       30.00000   0       19.0     1       1\n",
       "888  28.0    0        5.86250   0       84.0     1       3\n",
       "889  26.0    1       30.00000   1       26.0     0       1\n",
       "890  32.0    1        7.75000   1       96.0     0       3\n",
       "\n",
       "[891 rows x 7 columns]"
      ]
     },
     "execution_count": 24,
     "metadata": {},
     "output_type": "execute_result"
    }
   ],
   "source": [
    "features = ['Age','Sex','FarePerMember','Mr','Age*Class','Miss','Pclass'] \n",
    "# this is where correlation come in handy\n",
    "# to do try taking or leaving fare\n",
    "train_x = df[features]\n",
    "train_y=df['Survived']\n",
    "train_x"
   ]
  },
  {
   "cell_type": "markdown",
   "id": "complex-voltage",
   "metadata": {
    "papermill": {
     "duration": 0.050514,
     "end_time": "2021-06-10T16:52:14.429086",
     "exception": false,
     "start_time": "2021-06-10T16:52:14.378572",
     "status": "completed"
    },
    "tags": []
   },
   "source": [
    "### Choosing The Best Model and Model Evaluation"
   ]
  },
  {
   "cell_type": "code",
   "execution_count": 25,
   "id": "assisted-compression",
   "metadata": {
    "execution": {
     "iopub.execute_input": "2021-06-10T16:52:14.536430Z",
     "iopub.status.busy": "2021-06-10T16:52:14.535739Z",
     "iopub.status.idle": "2021-06-10T16:52:14.843067Z",
     "shell.execute_reply": "2021-06-10T16:52:14.842594Z"
    },
    "papermill": {
     "duration": 0.362971,
     "end_time": "2021-06-10T16:52:14.843196",
     "exception": false,
     "start_time": "2021-06-10T16:52:14.480225",
     "status": "completed"
    },
    "tags": []
   },
   "outputs": [],
   "source": [
    "# this models will used for choosing the best model among them.\n",
    "from sklearn.ensemble import RandomForestClassifier\n",
    "from sklearn.naive_bayes import GaussianNB\n",
    "from sklearn.svm import SVC\n",
    "from sklearn.neighbors import KNeighborsClassifier\n",
    "from sklearn.tree import DecisionTreeClassifier\n",
    "from sklearn.linear_model import LogisticRegression\n"
   ]
  },
  {
   "cell_type": "markdown",
   "id": "joined-disclosure",
   "metadata": {
    "papermill": {
     "duration": 0.050048,
     "end_time": "2021-06-10T16:52:14.944319",
     "exception": false,
     "start_time": "2021-06-10T16:52:14.894271",
     "status": "completed"
    },
    "tags": []
   },
   "source": [
    "#### K-Fold Cross Validation for Model Evaluation "
   ]
  },
  {
   "cell_type": "code",
   "execution_count": 26,
   "id": "sought-peoples",
   "metadata": {
    "execution": {
     "iopub.execute_input": "2021-06-10T16:52:15.050847Z",
     "iopub.status.busy": "2021-06-10T16:52:15.050103Z",
     "iopub.status.idle": "2021-06-10T16:52:15.052831Z",
     "shell.execute_reply": "2021-06-10T16:52:15.052362Z"
    },
    "papermill": {
     "duration": 0.057575,
     "end_time": "2021-06-10T16:52:15.052947",
     "exception": false,
     "start_time": "2021-06-10T16:52:14.995372",
     "status": "completed"
    },
    "tags": []
   },
   "outputs": [],
   "source": [
    "from sklearn.model_selection import cross_val_score\n",
    "from sklearn.model_selection import KFold\n",
    "k_fold= KFold(n_splits=5, shuffle=True, random_state=0)"
   ]
  },
  {
   "cell_type": "code",
   "execution_count": 27,
   "id": "documented-question",
   "metadata": {
    "execution": {
     "iopub.execute_input": "2021-06-10T16:52:15.160346Z",
     "iopub.status.busy": "2021-06-10T16:52:15.159555Z",
     "iopub.status.idle": "2021-06-10T16:52:16.112969Z",
     "shell.execute_reply": "2021-06-10T16:52:16.112497Z"
    },
    "papermill": {
     "duration": 1.009938,
     "end_time": "2021-06-10T16:52:16.113105",
     "exception": false,
     "start_time": "2021-06-10T16:52:15.103167",
     "status": "completed"
    },
    "tags": []
   },
   "outputs": [],
   "source": [
    "# trying on random forest\n",
    "r_f = RandomForestClassifier(n_estimators=100)\n",
    "score_rf = cross_val_score(r_f, train_x, train_y, cv=k_fold, n_jobs=1, scoring='accuracy')\n",
    "\n",
    "rf=round(np.mean(score_rf)*100, 2)\n"
   ]
  },
  {
   "cell_type": "code",
   "execution_count": 28,
   "id": "combined-happening",
   "metadata": {
    "execution": {
     "iopub.execute_input": "2021-06-10T16:52:16.222093Z",
     "iopub.status.busy": "2021-06-10T16:52:16.221258Z",
     "iopub.status.idle": "2021-06-10T16:52:16.251960Z",
     "shell.execute_reply": "2021-06-10T16:52:16.251524Z"
    },
    "papermill": {
     "duration": 0.086863,
     "end_time": "2021-06-10T16:52:16.252071",
     "exception": false,
     "start_time": "2021-06-10T16:52:16.165208",
     "status": "completed"
    },
    "tags": []
   },
   "outputs": [],
   "source": [
    "#trying decision tree\n",
    "d_t = DecisionTreeClassifier()\n",
    "score_dt = cross_val_score(d_t, train_x, train_y, cv=k_fold, n_jobs=1, scoring='accuracy')\n",
    "dt=round(np.mean(score_dt)*100, 2)"
   ]
  },
  {
   "cell_type": "code",
   "execution_count": 29,
   "id": "powered-coaching",
   "metadata": {
    "execution": {
     "iopub.execute_input": "2021-06-10T16:52:16.359320Z",
     "iopub.status.busy": "2021-06-10T16:52:16.358528Z",
     "iopub.status.idle": "2021-06-10T16:52:16.491709Z",
     "shell.execute_reply": "2021-06-10T16:52:16.491264Z"
    },
    "papermill": {
     "duration": 0.188941,
     "end_time": "2021-06-10T16:52:16.491831",
     "exception": false,
     "start_time": "2021-06-10T16:52:16.302890",
     "status": "completed"
    },
    "tags": []
   },
   "outputs": [],
   "source": [
    "#trying svm\n",
    "svm = SVC()\n",
    "score_svm = cross_val_score(svm, train_x, train_y, cv=k_fold, n_jobs=1, scoring='accuracy')\n",
    "sv=round(np.mean(score_svm)*100, 2)"
   ]
  },
  {
   "cell_type": "code",
   "execution_count": 30,
   "id": "bright-mining",
   "metadata": {
    "execution": {
     "iopub.execute_input": "2021-06-10T16:52:16.598153Z",
     "iopub.status.busy": "2021-06-10T16:52:16.597358Z",
     "iopub.status.idle": "2021-06-10T16:52:16.658326Z",
     "shell.execute_reply": "2021-06-10T16:52:16.658746Z"
    },
    "papermill": {
     "duration": 0.116208,
     "end_time": "2021-06-10T16:52:16.658888",
     "exception": false,
     "start_time": "2021-06-10T16:52:16.542680",
     "status": "completed"
    },
    "tags": []
   },
   "outputs": [],
   "source": [
    "#trying KNN\n",
    "knn=KNeighborsClassifier(n_neighbors = 13)\n",
    "score_knn = cross_val_score(knn, train_x, train_y, cv=k_fold, n_jobs=1, scoring='accuracy')\n",
    "kn=round(np.mean(score_knn)*100, 2)"
   ]
  },
  {
   "cell_type": "code",
   "execution_count": 31,
   "id": "collect-illinois",
   "metadata": {
    "execution": {
     "iopub.execute_input": "2021-06-10T16:52:16.768601Z",
     "iopub.status.busy": "2021-06-10T16:52:16.767663Z",
     "iopub.status.idle": "2021-06-10T16:52:16.802079Z",
     "shell.execute_reply": "2021-06-10T16:52:16.801548Z"
    },
    "papermill": {
     "duration": 0.092119,
     "end_time": "2021-06-10T16:52:16.802203",
     "exception": false,
     "start_time": "2021-06-10T16:52:16.710084",
     "status": "completed"
    },
    "tags": []
   },
   "outputs": [],
   "source": [
    "#trying naive bayes\n",
    "nb = GaussianNB()\n",
    "score_nb = cross_val_score(nb, train_x, train_y, cv=k_fold, n_jobs=1, scoring='accuracy')\n",
    "nbb=round(np.mean(score_nb)*100, 2)"
   ]
  },
  {
   "cell_type": "code",
   "execution_count": 32,
   "id": "parental-strand",
   "metadata": {
    "execution": {
     "iopub.execute_input": "2021-06-10T16:52:16.910674Z",
     "iopub.status.busy": "2021-06-10T16:52:16.909765Z",
     "iopub.status.idle": "2021-06-10T16:52:17.058091Z",
     "shell.execute_reply": "2021-06-10T16:52:17.057482Z"
    },
    "papermill": {
     "duration": 0.203913,
     "end_time": "2021-06-10T16:52:17.058243",
     "exception": false,
     "start_time": "2021-06-10T16:52:16.854330",
     "status": "completed"
    },
    "tags": []
   },
   "outputs": [
    {
     "name": "stderr",
     "output_type": "stream",
     "text": [
      "/opt/conda/lib/python3.7/site-packages/sklearn/linear_model/_logistic.py:765: ConvergenceWarning: lbfgs failed to converge (status=1):\n",
      "STOP: TOTAL NO. of ITERATIONS REACHED LIMIT.\n",
      "\n",
      "Increase the number of iterations (max_iter) or scale the data as shown in:\n",
      "    https://scikit-learn.org/stable/modules/preprocessing.html\n",
      "Please also refer to the documentation for alternative solver options:\n",
      "    https://scikit-learn.org/stable/modules/linear_model.html#logistic-regression\n",
      "  extra_warning_msg=_LOGISTIC_SOLVER_CONVERGENCE_MSG)\n",
      "/opt/conda/lib/python3.7/site-packages/sklearn/linear_model/_logistic.py:765: ConvergenceWarning: lbfgs failed to converge (status=1):\n",
      "STOP: TOTAL NO. of ITERATIONS REACHED LIMIT.\n",
      "\n",
      "Increase the number of iterations (max_iter) or scale the data as shown in:\n",
      "    https://scikit-learn.org/stable/modules/preprocessing.html\n",
      "Please also refer to the documentation for alternative solver options:\n",
      "    https://scikit-learn.org/stable/modules/linear_model.html#logistic-regression\n",
      "  extra_warning_msg=_LOGISTIC_SOLVER_CONVERGENCE_MSG)\n",
      "/opt/conda/lib/python3.7/site-packages/sklearn/linear_model/_logistic.py:765: ConvergenceWarning: lbfgs failed to converge (status=1):\n",
      "STOP: TOTAL NO. of ITERATIONS REACHED LIMIT.\n",
      "\n",
      "Increase the number of iterations (max_iter) or scale the data as shown in:\n",
      "    https://scikit-learn.org/stable/modules/preprocessing.html\n",
      "Please also refer to the documentation for alternative solver options:\n",
      "    https://scikit-learn.org/stable/modules/linear_model.html#logistic-regression\n",
      "  extra_warning_msg=_LOGISTIC_SOLVER_CONVERGENCE_MSG)\n"
     ]
    }
   ],
   "source": [
    "#trying Logistic Regression\n",
    "lg = LogisticRegression()\n",
    "score_lg = cross_val_score(lg, train_x, train_y, cv=k_fold, n_jobs=1, scoring='accuracy')\n",
    "lgg=round(np.mean(score_lg)*100, 2)\n"
   ]
  },
  {
   "cell_type": "code",
   "execution_count": 33,
   "id": "fixed-negotiation",
   "metadata": {
    "execution": {
     "iopub.execute_input": "2021-06-10T16:52:17.165733Z",
     "iopub.status.busy": "2021-06-10T16:52:17.165015Z",
     "iopub.status.idle": "2021-06-10T16:52:17.167692Z",
     "shell.execute_reply": "2021-06-10T16:52:17.167248Z"
    },
    "papermill": {
     "duration": 0.057928,
     "end_time": "2021-06-10T16:52:17.167802",
     "exception": false,
     "start_time": "2021-06-10T16:52:17.109874",
     "status": "completed"
    },
    "tags": []
   },
   "outputs": [],
   "source": [
    "results = pd.DataFrame({\n",
    "    'Model': ['Support Vector Machines', 'KNN', 'Logistic Regression', \n",
    "              'Random Forest', 'Naive Bayes',\n",
    "              'Decision Tree'],\n",
    "    'Score': [ sv, kn, \n",
    "              lgg, rf, nbb, \n",
    "              dt]})"
   ]
  },
  {
   "cell_type": "code",
   "execution_count": 34,
   "id": "forty-registrar",
   "metadata": {
    "execution": {
     "iopub.execute_input": "2021-06-10T16:52:17.276076Z",
     "iopub.status.busy": "2021-06-10T16:52:17.275582Z",
     "iopub.status.idle": "2021-06-10T16:52:17.280352Z",
     "shell.execute_reply": "2021-06-10T16:52:17.279912Z"
    },
    "papermill": {
     "duration": 0.062307,
     "end_time": "2021-06-10T16:52:17.280472",
     "exception": false,
     "start_time": "2021-06-10T16:52:17.218165",
     "status": "completed"
    },
    "tags": []
   },
   "outputs": [
    {
     "data": {
      "text/html": [
       "<div>\n",
       "<style scoped>\n",
       "    .dataframe tbody tr th:only-of-type {\n",
       "        vertical-align: middle;\n",
       "    }\n",
       "\n",
       "    .dataframe tbody tr th {\n",
       "        vertical-align: top;\n",
       "    }\n",
       "\n",
       "    .dataframe thead th {\n",
       "        text-align: right;\n",
       "    }\n",
       "</style>\n",
       "<table border=\"1\" class=\"dataframe\">\n",
       "  <thead>\n",
       "    <tr style=\"text-align: right;\">\n",
       "      <th></th>\n",
       "      <th>Model</th>\n",
       "      <th>Score</th>\n",
       "    </tr>\n",
       "  </thead>\n",
       "  <tbody>\n",
       "    <tr>\n",
       "      <th>0</th>\n",
       "      <td>Support Vector Machines</td>\n",
       "      <td>69.58</td>\n",
       "    </tr>\n",
       "    <tr>\n",
       "      <th>1</th>\n",
       "      <td>KNN</td>\n",
       "      <td>70.93</td>\n",
       "    </tr>\n",
       "    <tr>\n",
       "      <th>2</th>\n",
       "      <td>Logistic Regression</td>\n",
       "      <td>78.34</td>\n",
       "    </tr>\n",
       "    <tr>\n",
       "      <th>3</th>\n",
       "      <td>Random Forest</td>\n",
       "      <td>80.81</td>\n",
       "    </tr>\n",
       "    <tr>\n",
       "      <th>4</th>\n",
       "      <td>Naive Bayes</td>\n",
       "      <td>78.67</td>\n",
       "    </tr>\n",
       "    <tr>\n",
       "      <th>5</th>\n",
       "      <td>Decision Tree</td>\n",
       "      <td>77.55</td>\n",
       "    </tr>\n",
       "  </tbody>\n",
       "</table>\n",
       "</div>"
      ],
      "text/plain": [
       "                     Model  Score\n",
       "0  Support Vector Machines  69.58\n",
       "1                      KNN  70.93\n",
       "2      Logistic Regression  78.34\n",
       "3            Random Forest  80.81\n",
       "4              Naive Bayes  78.67\n",
       "5            Decision Tree  77.55"
      ]
     },
     "execution_count": 34,
     "metadata": {},
     "output_type": "execute_result"
    }
   ],
   "source": [
    "results"
   ]
  },
  {
   "cell_type": "code",
   "execution_count": 35,
   "id": "endangered-calibration",
   "metadata": {
    "execution": {
     "iopub.execute_input": "2021-06-10T16:52:17.393796Z",
     "iopub.status.busy": "2021-06-10T16:52:17.393072Z",
     "iopub.status.idle": "2021-06-10T16:52:17.396105Z",
     "shell.execute_reply": "2021-06-10T16:52:17.396521Z"
    },
    "papermill": {
     "duration": 0.064453,
     "end_time": "2021-06-10T16:52:17.396649",
     "exception": false,
     "start_time": "2021-06-10T16:52:17.332196",
     "status": "completed"
    },
    "tags": []
   },
   "outputs": [
    {
     "data": {
      "text/html": [
       "<div>\n",
       "<style scoped>\n",
       "    .dataframe tbody tr th:only-of-type {\n",
       "        vertical-align: middle;\n",
       "    }\n",
       "\n",
       "    .dataframe tbody tr th {\n",
       "        vertical-align: top;\n",
       "    }\n",
       "\n",
       "    .dataframe thead th {\n",
       "        text-align: right;\n",
       "    }\n",
       "</style>\n",
       "<table border=\"1\" class=\"dataframe\">\n",
       "  <thead>\n",
       "    <tr style=\"text-align: right;\">\n",
       "      <th></th>\n",
       "      <th>Model</th>\n",
       "    </tr>\n",
       "    <tr>\n",
       "      <th>Score</th>\n",
       "      <th></th>\n",
       "    </tr>\n",
       "  </thead>\n",
       "  <tbody>\n",
       "    <tr>\n",
       "      <th>80.81</th>\n",
       "      <td>Random Forest</td>\n",
       "    </tr>\n",
       "    <tr>\n",
       "      <th>78.67</th>\n",
       "      <td>Naive Bayes</td>\n",
       "    </tr>\n",
       "    <tr>\n",
       "      <th>78.34</th>\n",
       "      <td>Logistic Regression</td>\n",
       "    </tr>\n",
       "    <tr>\n",
       "      <th>77.55</th>\n",
       "      <td>Decision Tree</td>\n",
       "    </tr>\n",
       "    <tr>\n",
       "      <th>70.93</th>\n",
       "      <td>KNN</td>\n",
       "    </tr>\n",
       "    <tr>\n",
       "      <th>69.58</th>\n",
       "      <td>Support Vector Machines</td>\n",
       "    </tr>\n",
       "  </tbody>\n",
       "</table>\n",
       "</div>"
      ],
      "text/plain": [
       "                         Model\n",
       "Score                         \n",
       "80.81            Random Forest\n",
       "78.67              Naive Bayes\n",
       "78.34      Logistic Regression\n",
       "77.55            Decision Tree\n",
       "70.93                      KNN\n",
       "69.58  Support Vector Machines"
      ]
     },
     "execution_count": 35,
     "metadata": {},
     "output_type": "execute_result"
    }
   ],
   "source": [
    "result_df = results.sort_values(by='Score', ascending=False)\n",
    "result_df = result_df.set_index('Score')\n",
    "result_df.head(6)\n"
   ]
  },
  {
   "cell_type": "markdown",
   "id": "willing-collar",
   "metadata": {
    "papermill": {
     "duration": 0.051548,
     "end_time": "2021-06-10T16:52:17.500178",
     "exception": false,
     "start_time": "2021-06-10T16:52:17.448630",
     "status": "completed"
    },
    "tags": []
   },
   "source": [
    "### Choosing Random Forest As a Classifier"
   ]
  },
  {
   "cell_type": "markdown",
   "id": "according-waterproof",
   "metadata": {
    "execution": {
     "iopub.execute_input": "2021-05-25T16:23:17.236218Z",
     "iopub.status.busy": "2021-05-25T16:23:17.235611Z",
     "iopub.status.idle": "2021-05-25T16:23:17.242541Z",
     "shell.execute_reply": "2021-05-25T16:23:17.24179Z",
     "shell.execute_reply.started": "2021-05-25T16:23:17.236165Z"
    },
    "papermill": {
     "duration": 0.051457,
     "end_time": "2021-06-10T16:52:17.603077",
     "exception": false,
     "start_time": "2021-06-10T16:52:17.551620",
     "status": "completed"
    },
    "tags": []
   },
   "source": [
    "### Model Building Blocks"
   ]
  },
  {
   "cell_type": "code",
   "execution_count": 36,
   "id": "stone-tissue",
   "metadata": {
    "execution": {
     "iopub.execute_input": "2021-06-10T16:52:17.712227Z",
     "iopub.status.busy": "2021-06-10T16:52:17.711542Z",
     "iopub.status.idle": "2021-06-10T16:52:17.714539Z",
     "shell.execute_reply": "2021-06-10T16:52:17.714903Z"
    },
    "papermill": {
     "duration": 0.060416,
     "end_time": "2021-06-10T16:52:17.715038",
     "exception": false,
     "start_time": "2021-06-10T16:52:17.654622",
     "status": "completed"
    },
    "tags": []
   },
   "outputs": [
    {
     "data": {
      "text/plain": [
       "'\\nHyper Parameters:\\nn_estimators = number of trees in the foreset\\nmax_features = max number of features considered for splitting a node\\nmax_depth = max number of levels in each decision tree\\nmin_samples_split = min number of data points placed in a node before the node is split\\nmin_samples_leaf = min number of data points allowed in a leaf node\\nbootstrap = method for sampling data points (with or without replacement)\\n'"
      ]
     },
     "execution_count": 36,
     "metadata": {},
     "output_type": "execute_result"
    }
   ],
   "source": [
    "from sklearn.ensemble import RandomForestClassifier\n",
    "#model = RandomForestClassifier(random_state=42)\n",
    "#model = RandomForestClassifier(n_estimators=100, max_depth=5, random_state=42)\n",
    "model = RandomForestClassifier(n_estimators=100, max_depth=5,\n",
    "min_samples_leaf= 1,min_samples_split= 2, random_state=42,max_features= 'auto',\n",
    " max_leaf_nodes=None)\n",
    "\"\"\"\n",
    "Hyper Parameters:\n",
    "n_estimators = number of trees in the foreset\n",
    "max_features = max number of features considered for splitting a node\n",
    "max_depth = max number of levels in each decision tree\n",
    "min_samples_split = min number of data points placed in a node before the node is split\n",
    "min_samples_leaf = min number of data points allowed in a leaf node\n",
    "bootstrap = method for sampling data points (with or without replacement)\n",
    "\"\"\""
   ]
  },
  {
   "cell_type": "markdown",
   "id": "secret-crest",
   "metadata": {
    "papermill": {
     "duration": 0.052538,
     "end_time": "2021-06-10T16:52:17.819267",
     "exception": false,
     "start_time": "2021-06-10T16:52:17.766729",
     "status": "completed"
    },
    "tags": []
   },
   "source": [
    "### Model Training"
   ]
  },
  {
   "cell_type": "code",
   "execution_count": 37,
   "id": "fixed-anthony",
   "metadata": {
    "execution": {
     "iopub.execute_input": "2021-06-10T16:52:17.929576Z",
     "iopub.status.busy": "2021-06-10T16:52:17.928794Z",
     "iopub.status.idle": "2021-06-10T16:52:18.101841Z",
     "shell.execute_reply": "2021-06-10T16:52:18.102267Z"
    },
    "papermill": {
     "duration": 0.231206,
     "end_time": "2021-06-10T16:52:18.102403",
     "exception": false,
     "start_time": "2021-06-10T16:52:17.871197",
     "status": "completed"
    },
    "tags": []
   },
   "outputs": [
    {
     "data": {
      "text/plain": [
       "RandomForestClassifier(max_depth=5, random_state=42)"
      ]
     },
     "execution_count": 37,
     "metadata": {},
     "output_type": "execute_result"
    }
   ],
   "source": [
    "model.fit(train_x,train_y)\n"
   ]
  },
  {
   "cell_type": "markdown",
   "id": "bottom-desire",
   "metadata": {
    "papermill": {
     "duration": 0.054842,
     "end_time": "2021-06-10T16:52:18.210165",
     "exception": false,
     "start_time": "2021-06-10T16:52:18.155323",
     "status": "completed"
    },
    "tags": []
   },
   "source": [
    "### Feature Importance "
   ]
  },
  {
   "cell_type": "code",
   "execution_count": 38,
   "id": "electoral-supervisor",
   "metadata": {
    "execution": {
     "iopub.execute_input": "2021-06-10T16:52:18.331252Z",
     "iopub.status.busy": "2021-06-10T16:52:18.330508Z",
     "iopub.status.idle": "2021-06-10T16:52:18.339875Z",
     "shell.execute_reply": "2021-06-10T16:52:18.339488Z"
    },
    "papermill": {
     "duration": 0.077145,
     "end_time": "2021-06-10T16:52:18.340057",
     "exception": false,
     "start_time": "2021-06-10T16:52:18.262912",
     "status": "completed"
    },
    "tags": []
   },
   "outputs": [
    {
     "data": {
      "text/html": [
       "<div>\n",
       "<style scoped>\n",
       "    .dataframe tbody tr th:only-of-type {\n",
       "        vertical-align: middle;\n",
       "    }\n",
       "\n",
       "    .dataframe tbody tr th {\n",
       "        vertical-align: top;\n",
       "    }\n",
       "\n",
       "    .dataframe thead th {\n",
       "        text-align: right;\n",
       "    }\n",
       "</style>\n",
       "<table border=\"1\" class=\"dataframe\">\n",
       "  <thead>\n",
       "    <tr style=\"text-align: right;\">\n",
       "      <th></th>\n",
       "      <th>importance</th>\n",
       "    </tr>\n",
       "    <tr>\n",
       "      <th>feature</th>\n",
       "      <th></th>\n",
       "    </tr>\n",
       "  </thead>\n",
       "  <tbody>\n",
       "    <tr>\n",
       "      <th>Sex</th>\n",
       "      <td>0.280</td>\n",
       "    </tr>\n",
       "    <tr>\n",
       "      <th>Mr</th>\n",
       "      <td>0.233</td>\n",
       "    </tr>\n",
       "    <tr>\n",
       "      <th>FarePerMember</th>\n",
       "      <td>0.145</td>\n",
       "    </tr>\n",
       "    <tr>\n",
       "      <th>Age*Class</th>\n",
       "      <td>0.130</td>\n",
       "    </tr>\n",
       "    <tr>\n",
       "      <th>Pclass</th>\n",
       "      <td>0.101</td>\n",
       "    </tr>\n",
       "    <tr>\n",
       "      <th>Age</th>\n",
       "      <td>0.075</td>\n",
       "    </tr>\n",
       "    <tr>\n",
       "      <th>Miss</th>\n",
       "      <td>0.037</td>\n",
       "    </tr>\n",
       "  </tbody>\n",
       "</table>\n",
       "</div>"
      ],
      "text/plain": [
       "               importance\n",
       "feature                  \n",
       "Sex                 0.280\n",
       "Mr                  0.233\n",
       "FarePerMember       0.145\n",
       "Age*Class           0.130\n",
       "Pclass              0.101\n",
       "Age                 0.075\n",
       "Miss                0.037"
      ]
     },
     "execution_count": 38,
     "metadata": {},
     "output_type": "execute_result"
    }
   ],
   "source": [
    "importances = pd.DataFrame({'feature':train_x.columns,'importance':np.round(model.feature_importances_,3)})\n",
    "importances = importances.sort_values('importance',ascending=False).set_index('feature')\n",
    "importances.head(15)\n",
    "#re Running again above by reselecting features"
   ]
  },
  {
   "cell_type": "markdown",
   "id": "harmful-corps",
   "metadata": {
    "papermill": {
     "duration": 0.052735,
     "end_time": "2021-06-10T16:52:18.446807",
     "exception": false,
     "start_time": "2021-06-10T16:52:18.394072",
     "status": "completed"
    },
    "tags": []
   },
   "source": [
    "### Model Evaluation and Testing"
   ]
  },
  {
   "cell_type": "code",
   "execution_count": 39,
   "id": "deluxe-thesaurus",
   "metadata": {
    "execution": {
     "iopub.execute_input": "2021-06-10T16:52:18.565205Z",
     "iopub.status.busy": "2021-06-10T16:52:18.564666Z",
     "iopub.status.idle": "2021-06-10T16:52:18.600935Z",
     "shell.execute_reply": "2021-06-10T16:52:18.599897Z"
    },
    "papermill": {
     "duration": 0.101348,
     "end_time": "2021-06-10T16:52:18.601091",
     "exception": false,
     "start_time": "2021-06-10T16:52:18.499743",
     "status": "completed"
    },
    "tags": []
   },
   "outputs": [
    {
     "data": {
      "text/html": [
       "<div>\n",
       "<style scoped>\n",
       "    .dataframe tbody tr th:only-of-type {\n",
       "        vertical-align: middle;\n",
       "    }\n",
       "\n",
       "    .dataframe tbody tr th {\n",
       "        vertical-align: top;\n",
       "    }\n",
       "\n",
       "    .dataframe thead th {\n",
       "        text-align: right;\n",
       "    }\n",
       "</style>\n",
       "<table border=\"1\" class=\"dataframe\">\n",
       "  <thead>\n",
       "    <tr style=\"text-align: right;\">\n",
       "      <th></th>\n",
       "      <th>Age</th>\n",
       "      <th>Sex</th>\n",
       "      <th>FarePerMember</th>\n",
       "      <th>Mr</th>\n",
       "      <th>Age*Class</th>\n",
       "      <th>Miss</th>\n",
       "      <th>Pclass</th>\n",
       "    </tr>\n",
       "  </thead>\n",
       "  <tbody>\n",
       "    <tr>\n",
       "      <th>0</th>\n",
       "      <td>34.50000</td>\n",
       "      <td>1</td>\n",
       "      <td>7.829200</td>\n",
       "      <td>1</td>\n",
       "      <td>103.500000</td>\n",
       "      <td>0</td>\n",
       "      <td>3</td>\n",
       "    </tr>\n",
       "    <tr>\n",
       "      <th>1</th>\n",
       "      <td>47.00000</td>\n",
       "      <td>0</td>\n",
       "      <td>3.500000</td>\n",
       "      <td>0</td>\n",
       "      <td>141.000000</td>\n",
       "      <td>0</td>\n",
       "      <td>3</td>\n",
       "    </tr>\n",
       "    <tr>\n",
       "      <th>2</th>\n",
       "      <td>62.00000</td>\n",
       "      <td>1</td>\n",
       "      <td>9.687500</td>\n",
       "      <td>1</td>\n",
       "      <td>124.000000</td>\n",
       "      <td>0</td>\n",
       "      <td>2</td>\n",
       "    </tr>\n",
       "    <tr>\n",
       "      <th>3</th>\n",
       "      <td>27.00000</td>\n",
       "      <td>1</td>\n",
       "      <td>8.662500</td>\n",
       "      <td>1</td>\n",
       "      <td>81.000000</td>\n",
       "      <td>0</td>\n",
       "      <td>3</td>\n",
       "    </tr>\n",
       "    <tr>\n",
       "      <th>4</th>\n",
       "      <td>22.00000</td>\n",
       "      <td>0</td>\n",
       "      <td>4.095833</td>\n",
       "      <td>0</td>\n",
       "      <td>66.000000</td>\n",
       "      <td>0</td>\n",
       "      <td>3</td>\n",
       "    </tr>\n",
       "    <tr>\n",
       "      <th>...</th>\n",
       "      <td>...</td>\n",
       "      <td>...</td>\n",
       "      <td>...</td>\n",
       "      <td>...</td>\n",
       "      <td>...</td>\n",
       "      <td>...</td>\n",
       "      <td>...</td>\n",
       "    </tr>\n",
       "    <tr>\n",
       "      <th>413</th>\n",
       "      <td>30.27259</td>\n",
       "      <td>1</td>\n",
       "      <td>8.050000</td>\n",
       "      <td>1</td>\n",
       "      <td>90.817771</td>\n",
       "      <td>0</td>\n",
       "      <td>3</td>\n",
       "    </tr>\n",
       "    <tr>\n",
       "      <th>414</th>\n",
       "      <td>39.00000</td>\n",
       "      <td>0</td>\n",
       "      <td>108.900000</td>\n",
       "      <td>0</td>\n",
       "      <td>39.000000</td>\n",
       "      <td>0</td>\n",
       "      <td>1</td>\n",
       "    </tr>\n",
       "    <tr>\n",
       "      <th>415</th>\n",
       "      <td>38.50000</td>\n",
       "      <td>1</td>\n",
       "      <td>7.250000</td>\n",
       "      <td>1</td>\n",
       "      <td>115.500000</td>\n",
       "      <td>0</td>\n",
       "      <td>3</td>\n",
       "    </tr>\n",
       "    <tr>\n",
       "      <th>416</th>\n",
       "      <td>30.27259</td>\n",
       "      <td>1</td>\n",
       "      <td>8.050000</td>\n",
       "      <td>1</td>\n",
       "      <td>90.817771</td>\n",
       "      <td>0</td>\n",
       "      <td>3</td>\n",
       "    </tr>\n",
       "    <tr>\n",
       "      <th>417</th>\n",
       "      <td>30.27259</td>\n",
       "      <td>1</td>\n",
       "      <td>7.452767</td>\n",
       "      <td>0</td>\n",
       "      <td>90.817771</td>\n",
       "      <td>0</td>\n",
       "      <td>3</td>\n",
       "    </tr>\n",
       "  </tbody>\n",
       "</table>\n",
       "<p>418 rows × 7 columns</p>\n",
       "</div>"
      ],
      "text/plain": [
       "          Age  Sex  FarePerMember  Mr   Age*Class  Miss  Pclass\n",
       "0    34.50000    1       7.829200   1  103.500000     0       3\n",
       "1    47.00000    0       3.500000   0  141.000000     0       3\n",
       "2    62.00000    1       9.687500   1  124.000000     0       2\n",
       "3    27.00000    1       8.662500   1   81.000000     0       3\n",
       "4    22.00000    0       4.095833   0   66.000000     0       3\n",
       "..        ...  ...            ...  ..         ...   ...     ...\n",
       "413  30.27259    1       8.050000   1   90.817771     0       3\n",
       "414  39.00000    0     108.900000   0   39.000000     0       1\n",
       "415  38.50000    1       7.250000   1  115.500000     0       3\n",
       "416  30.27259    1       8.050000   1   90.817771     0       3\n",
       "417  30.27259    1       7.452767   0   90.817771     0       3\n",
       "\n",
       "[418 rows x 7 columns]"
      ]
     },
     "execution_count": 39,
     "metadata": {},
     "output_type": "execute_result"
    }
   ],
   "source": [
    "file_path = '../input/titanic/test.csv'\n",
    "test_df = pd.read_csv(file_path)\n",
    "test_df['Age']=test_df['Age'].replace(np.NaN,test_df['Age'].mean())\n",
    "test_df['Sex'].replace('female',0,inplace=True)\n",
    "test_df['Sex'].replace('male',1,inplace=True)\n",
    "test_df['Fare']=test_df['Fare'].replace(np.NaN,df['Fare'].mean())\n",
    "\n",
    "test_df['FamilyMembers']=test_df['SibSp']+test_df['Parch']\n",
    "\n",
    "test_df['FarePerMember']=test_df['Fare']/(test_df['FamilyMembers']+1)\n",
    "\n",
    "test_df['Embarked'].replace('S',0,inplace=True)\n",
    "test_df['Embarked'].replace('C',1,inplace=True)\n",
    "test_df['Embarked'].replace('Q',2,inplace=True)\n",
    "\n",
    "test_df['Age*Class']=test_df['Age']*test_df['Pclass']\n",
    "\n",
    "\n",
    "test_df['NameType'] =  test_df['Name'].apply(extract_type)\n",
    "test_df['NameType'] = pd.to_numeric(test_df['NameType'])\n",
    "dummies = pd.get_dummies(test_df['NameType'], prefix='NameType')\n",
    "test_df = pd.concat([test_df, dummies], axis=1)\n",
    "test_df.rename({'NameType_0': 'Mr', 'NameType_1': 'Mrs','NameType_2': 'Miss'\n",
    "           ,'NameType_3': 'Others'},\n",
    "          axis=1, inplace=True)\n",
    "\n",
    "\n",
    "\n",
    "\n",
    "test_x = test_df[features]\n",
    "test_x\n",
    "\n",
    "\n",
    "                      \n"
   ]
  },
  {
   "cell_type": "code",
   "execution_count": 40,
   "id": "chemical-jordan",
   "metadata": {
    "execution": {
     "iopub.execute_input": "2021-06-10T16:52:18.727477Z",
     "iopub.status.busy": "2021-06-10T16:52:18.726769Z",
     "iopub.status.idle": "2021-06-10T16:52:18.729715Z",
     "shell.execute_reply": "2021-06-10T16:52:18.730137Z"
    },
    "papermill": {
     "duration": 0.063166,
     "end_time": "2021-06-10T16:52:18.730260",
     "exception": false,
     "start_time": "2021-06-10T16:52:18.667094",
     "status": "completed"
    },
    "tags": []
   },
   "outputs": [
    {
     "data": {
      "text/plain": [
       "PassengerId        0\n",
       "Pclass             0\n",
       "Name               0\n",
       "Sex                0\n",
       "Age                0\n",
       "SibSp              0\n",
       "Parch              0\n",
       "Ticket             0\n",
       "Fare               0\n",
       "Cabin            327\n",
       "Embarked           0\n",
       "FamilyMembers      0\n",
       "FarePerMember      0\n",
       "Age*Class          0\n",
       "NameType           0\n",
       "Mr                 0\n",
       "Mrs                0\n",
       "Miss               0\n",
       "Others             0\n",
       "dtype: int64"
      ]
     },
     "execution_count": 40,
     "metadata": {},
     "output_type": "execute_result"
    }
   ],
   "source": [
    "\n",
    "test_df.isnull().sum()\n"
   ]
  },
  {
   "cell_type": "code",
   "execution_count": 41,
   "id": "cultural-leone",
   "metadata": {
    "execution": {
     "iopub.execute_input": "2021-06-10T16:52:18.842239Z",
     "iopub.status.busy": "2021-06-10T16:52:18.841566Z",
     "iopub.status.idle": "2021-06-10T16:52:18.844147Z",
     "shell.execute_reply": "2021-06-10T16:52:18.843766Z"
    },
    "papermill": {
     "duration": 0.059724,
     "end_time": "2021-06-10T16:52:18.844249",
     "exception": false,
     "start_time": "2021-06-10T16:52:18.784525",
     "status": "completed"
    },
    "tags": []
   },
   "outputs": [],
   "source": [
    "#predictions = model.predict(test_x)\n",
    "\n",
    "#output = pd.DataFrame({'PassengerId': test_df.PassengerId, 'Survived': predictions})\n",
    "#output.to_csv('my_submission6.csv', index=False)\n",
    "\n",
    "\n"
   ]
  },
  {
   "cell_type": "markdown",
   "id": "olive-investment",
   "metadata": {
    "papermill": {
     "duration": 0.054069,
     "end_time": "2021-06-10T16:52:18.952375",
     "exception": false,
     "start_time": "2021-06-10T16:52:18.898306",
     "status": "completed"
    },
    "tags": []
   },
   "source": [
    "### Hyper-Parameters Tuning"
   ]
  },
  {
   "cell_type": "code",
   "execution_count": 42,
   "id": "divine-flash",
   "metadata": {
    "execution": {
     "iopub.execute_input": "2021-06-10T16:52:19.065152Z",
     "iopub.status.busy": "2021-06-10T16:52:19.064453Z",
     "iopub.status.idle": "2021-06-10T16:52:19.067965Z",
     "shell.execute_reply": "2021-06-10T16:52:19.067562Z"
    },
    "papermill": {
     "duration": 0.06156,
     "end_time": "2021-06-10T16:52:19.068073",
     "exception": false,
     "start_time": "2021-06-10T16:52:19.006513",
     "status": "completed"
    },
    "tags": []
   },
   "outputs": [
    {
     "data": {
      "text/plain": [
       "'\\n\\nfrom sklearn.model_selection import GridSearchCV\\nfrom sklearn.ensemble import RandomForestClassifier\\nmodel = RandomForestClassifier(random_state=42)\\nn_estimators = [100, 300, 500, 800, 1200]\\nmax_depth = [5, 8, 15, 25, 30]\\nmin_samples_split = [2, 5, 10, 15, 100]\\nmin_samples_leaf = [1, 2, 5, 10] \\n\\nhyperF = dict(n_estimators = n_estimators, max_depth = max_depth,  \\n              min_samples_split = min_samples_split, \\n             min_samples_leaf = min_samples_leaf)\\n\\ngridF = GridSearchCV(model, hyperF, cv = 3, verbose = 1, \\n                      n_jobs = -1)\\nbestF = gridF.fit(train_x, train_y)\\n'"
      ]
     },
     "execution_count": 42,
     "metadata": {},
     "output_type": "execute_result"
    }
   ],
   "source": [
    "\"\"\"\n",
    "\n",
    "from sklearn.model_selection import GridSearchCV\n",
    "from sklearn.ensemble import RandomForestClassifier\n",
    "model = RandomForestClassifier(random_state=42)\n",
    "n_estimators = [100, 300, 500, 800, 1200]\n",
    "max_depth = [5, 8, 15, 25, 30]\n",
    "min_samples_split = [2, 5, 10, 15, 100]\n",
    "min_samples_leaf = [1, 2, 5, 10] \n",
    "\n",
    "hyperF = dict(n_estimators = n_estimators, max_depth = max_depth,  \n",
    "              min_samples_split = min_samples_split, \n",
    "             min_samples_leaf = min_samples_leaf)\n",
    "\n",
    "gridF = GridSearchCV(model, hyperF, cv = 3, verbose = 1, \n",
    "                      n_jobs = -1)\n",
    "bestF = gridF.fit(train_x, train_y)\n",
    "\"\"\""
   ]
  },
  {
   "cell_type": "code",
   "execution_count": 43,
   "id": "suited-crisis",
   "metadata": {
    "execution": {
     "iopub.execute_input": "2021-06-10T16:52:19.183778Z",
     "iopub.status.busy": "2021-06-10T16:52:19.183057Z",
     "iopub.status.idle": "2021-06-10T16:52:19.185825Z",
     "shell.execute_reply": "2021-06-10T16:52:19.185356Z"
    },
    "papermill": {
     "duration": 0.062167,
     "end_time": "2021-06-10T16:52:19.185929",
     "exception": false,
     "start_time": "2021-06-10T16:52:19.123762",
     "status": "completed"
    },
    "tags": []
   },
   "outputs": [],
   "source": [
    "#bestF.get_params()"
   ]
  },
  {
   "cell_type": "code",
   "execution_count": 44,
   "id": "competitive-regard",
   "metadata": {
    "execution": {
     "iopub.execute_input": "2021-06-10T16:52:19.300533Z",
     "iopub.status.busy": "2021-06-10T16:52:19.299670Z",
     "iopub.status.idle": "2021-06-10T16:52:19.302884Z",
     "shell.execute_reply": "2021-06-10T16:52:19.303319Z"
    },
    "papermill": {
     "duration": 0.061808,
     "end_time": "2021-06-10T16:52:19.303453",
     "exception": false,
     "start_time": "2021-06-10T16:52:19.241645",
     "status": "completed"
    },
    "tags": []
   },
   "outputs": [
    {
     "data": {
      "text/plain": [
       "\"\\n#these parameters were obtained from gridSearch\\nmodel = RandomForestClassifier(n_estimators=100, max_depth=5,\\nmin_samples_leaf= 1,min_samples_split= 2, random_state=42,max_features= 'auto',\\n max_leaf_nodes=None)\\nmodel.fit(train_x,train_y)\\n\\n\""
      ]
     },
     "execution_count": 44,
     "metadata": {},
     "output_type": "execute_result"
    }
   ],
   "source": [
    "\"\"\"\n",
    "#these parameters were obtained from gridSearch\n",
    "model = RandomForestClassifier(n_estimators=100, max_depth=5,\n",
    "min_samples_leaf= 1,min_samples_split= 2, random_state=42,max_features= 'auto',\n",
    " max_leaf_nodes=None)\n",
    "model.fit(train_x,train_y)\n",
    "\n",
    "\"\"\"\n"
   ]
  },
  {
   "cell_type": "code",
   "execution_count": 45,
   "id": "forward-grenada",
   "metadata": {
    "execution": {
     "iopub.execute_input": "2021-06-10T16:52:19.420104Z",
     "iopub.status.busy": "2021-06-10T16:52:19.419188Z",
     "iopub.status.idle": "2021-06-10T16:52:19.438452Z",
     "shell.execute_reply": "2021-06-10T16:52:19.439016Z"
    },
    "papermill": {
     "duration": 0.081433,
     "end_time": "2021-06-10T16:52:19.439186",
     "exception": false,
     "start_time": "2021-06-10T16:52:19.357753",
     "status": "completed"
    },
    "tags": []
   },
   "outputs": [
    {
     "name": "stdout",
     "output_type": "stream",
     "text": [
      "0.8731762065095399\n"
     ]
    }
   ],
   "source": [
    "\n",
    "from sklearn.metrics import classification_report, confusion_matrix, accuracy_score\n",
    "\n",
    "print(accuracy_score(train_y, model.predict(train_x)))\n",
    "# i think this is a good accuracy not overfitting the data\n"
   ]
  },
  {
   "cell_type": "code",
   "execution_count": 46,
   "id": "roman-prevention",
   "metadata": {
    "execution": {
     "iopub.execute_input": "2021-06-10T16:52:19.556709Z",
     "iopub.status.busy": "2021-06-10T16:52:19.555885Z",
     "iopub.status.idle": "2021-06-10T16:52:19.689813Z",
     "shell.execute_reply": "2021-06-10T16:52:19.688811Z"
    },
    "papermill": {
     "duration": 0.194935,
     "end_time": "2021-06-10T16:52:19.689948",
     "exception": false,
     "start_time": "2021-06-10T16:52:19.495013",
     "status": "completed"
    },
    "tags": []
   },
   "outputs": [],
   "source": [
    "predictions = model.predict(test_x)\n",
    "\n",
    "output = pd.DataFrame({'PassengerId': test_df.PassengerId, 'Survived': predictions})\n",
    "output.to_csv('my_submission_DONE.csv', index=False)\n",
    "\n",
    "\n"
   ]
  },
  {
   "cell_type": "code",
   "execution_count": null,
   "id": "north-ottawa",
   "metadata": {
    "papermill": {
     "duration": 0.055108,
     "end_time": "2021-06-10T16:52:19.800665",
     "exception": false,
     "start_time": "2021-06-10T16:52:19.745557",
     "status": "completed"
    },
    "tags": []
   },
   "outputs": [],
   "source": []
  }
 ],
 "metadata": {
  "kernelspec": {
   "display_name": "Python 3",
   "language": "python",
   "name": "python3"
  },
  "language_info": {
   "codemirror_mode": {
    "name": "ipython",
    "version": 3
   },
   "file_extension": ".py",
   "mimetype": "text/x-python",
   "name": "python",
   "nbconvert_exporter": "python",
   "pygments_lexer": "ipython3",
   "version": "3.7.10"
  },
  "papermill": {
   "default_parameters": {},
   "duration": 20.330661,
   "end_time": "2021-06-10T16:52:20.464474",
   "environment_variables": {},
   "exception": null,
   "input_path": "__notebook__.ipynb",
   "output_path": "__notebook__.ipynb",
   "parameters": {},
   "start_time": "2021-06-10T16:52:00.133813",
   "version": "2.3.3"
  }
 },
 "nbformat": 4,
 "nbformat_minor": 5
}
